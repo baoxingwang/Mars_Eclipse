{
 "cells": [
  {
   "cell_type": "code",
   "execution_count": 5,
   "metadata": {},
   "outputs": [],
   "source": [
    "# Dependencies :  pandas, numpy, matplotlib, os, cvs_reader, stats,"
   ]
  },
  {
   "cell_type": "code",
   "execution_count": 6,
   "metadata": {},
   "outputs": [],
   "source": [
    "import pandas as pd\n",
    "import os\n",
    "import numpy as np\n",
    "import matplotlib.pyplot as plt"
   ]
  },
  {
   "cell_type": "code",
   "execution_count": 7,
   "metadata": {},
   "outputs": [],
   "source": [
    "# reading data and set the DataFrame"
   ]
  },
  {
   "cell_type": "code",
   "execution_count": 8,
   "metadata": {},
   "outputs": [
    {
     "data": {
      "text/html": [
       "<div>\n",
       "<style scoped>\n",
       "    .dataframe tbody tr th:only-of-type {\n",
       "        vertical-align: middle;\n",
       "    }\n",
       "\n",
       "    .dataframe tbody tr th {\n",
       "        vertical-align: top;\n",
       "    }\n",
       "\n",
       "    .dataframe thead th {\n",
       "        text-align: right;\n",
       "    }\n",
       "</style>\n",
       "<table border=\"1\" class=\"dataframe\">\n",
       "  <thead>\n",
       "    <tr style=\"text-align: right;\">\n",
       "      <th></th>\n",
       "      <th>ut_ms</th>\n",
       "      <th>description</th>\n",
       "    </tr>\n",
       "  </thead>\n",
       "  <tbody>\n",
       "    <tr>\n",
       "      <td>0</td>\n",
       "      <td>1219364253000</td>\n",
       "      <td>MLG_LOS_05_/_RTLT_02373</td>\n",
       "    </tr>\n",
       "    <tr>\n",
       "      <td>1</td>\n",
       "      <td>1219364356000</td>\n",
       "      <td>NNO_AOS_00_/_RTLT_02373</td>\n",
       "    </tr>\n",
       "    <tr>\n",
       "      <td>2</td>\n",
       "      <td>1219365058000</td>\n",
       "      <td>MLG_LOS_02_/_RTLT_02373</td>\n",
       "    </tr>\n",
       "    <tr>\n",
       "      <td>3</td>\n",
       "      <td>1219365755000</td>\n",
       "      <td>NNO_AOS_05_/_RTLT_02373</td>\n",
       "    </tr>\n",
       "    <tr>\n",
       "      <td>4</td>\n",
       "      <td>1219367159000</td>\n",
       "      <td>NNO_AOS_10_/_RTLT_02374</td>\n",
       "    </tr>\n",
       "  </tbody>\n",
       "</table>\n",
       "</div>"
      ],
      "text/plain": [
       "           ut_ms              description\n",
       "0  1219364253000  MLG_LOS_05_/_RTLT_02373\n",
       "1  1219364356000  NNO_AOS_00_/_RTLT_02373\n",
       "2  1219365058000  MLG_LOS_02_/_RTLT_02373\n",
       "3  1219365755000  NNO_AOS_05_/_RTLT_02373\n",
       "4  1219367159000  NNO_AOS_10_/_RTLT_02374"
      ]
     },
     "execution_count": 8,
     "metadata": {},
     "output_type": "execute_result"
    }
   ],
   "source": [
    "# 4 files for 4 years - with only eclipse events\n",
    "\n",
    "data_file_1 = os.path.join('..','mars_data_raw','context--2008-08-22_2010-07-10--evtf.csv')\n",
    "data_file_2 = os.path.join('..','mars_data_raw','context--2010-07-10_2012-05-27--evtf.csv')\n",
    "data_file_3 = os.path.join('..','mars_data_raw','context--2012-05-27_2014-04-14--evtf.csv')\n",
    "data_file_4 = os.path.join('..','mars_data_raw','context--2014-04-14_2016-03-01--evtf.csv')\n",
    "\n",
    "# 4 files for 4 years - with all event descriptions \n",
    "\n",
    "event_pd1 = pd.read_csv(data_file_1)\n",
    "event_pd2 = pd.read_csv(data_file_2)\n",
    "event_pd3 = pd.read_csv(data_file_3)\n",
    "event_pd4 = pd.read_csv(data_file_4)\n",
    "\n",
    "\n",
    "data_file_5 = os.path.join('..','mars_data_raw','context--2008-08-22_2010-07-10--ltdata.csv')\n",
    "data_file_6 = os.path.join('..','mars_data_raw','context--2010-07-10_2012-05-27--ltdata.csv')\n",
    "data_file_7 = os.path.join('..','mars_data_raw','context--2012-05-27_2014-04-14--ltdata.csv')\n",
    "data_file_8 = os.path.join('..','mars_data_raw','context--2014-04-14_2016-03-01--ltdata.csv')\n",
    "\n",
    "data_pd1 = pd.read_csv(data_file_5)\n",
    "data_pd2 = pd.read_csv(data_file_6)\n",
    "data_pd3 = pd.read_csv(data_file_7)\n",
    "data_pd4 = pd.read_csv(data_file_8)\n",
    "\n",
    "\n",
    "# merge the all the data files to data_full_df\n",
    "\n",
    "frames_data = [data_pd1,data_pd2,data_pd3,data_pd4]\n",
    "data_full_df = pd.concat(frames_data,ignore_index=True)\n",
    "\n",
    "\n",
    "# merge all the the event files to event_full_df\n",
    "\n",
    "frames = [event_pd1,event_pd2,event_pd3,event_pd4]\n",
    "event_full_df = pd.concat(frames, ignore_index=True)\n",
    "event_full_df.head()"
   ]
  },
  {
   "cell_type": "code",
   "execution_count": 9,
   "metadata": {},
   "outputs": [
    {
     "data": {
      "text/html": [
       "<div>\n",
       "<style scoped>\n",
       "    .dataframe tbody tr th:only-of-type {\n",
       "        vertical-align: middle;\n",
       "    }\n",
       "\n",
       "    .dataframe tbody tr th {\n",
       "        vertical-align: top;\n",
       "    }\n",
       "\n",
       "    .dataframe thead th {\n",
       "        text-align: right;\n",
       "    }\n",
       "</style>\n",
       "<table border=\"1\" class=\"dataframe\">\n",
       "  <thead>\n",
       "    <tr style=\"text-align: right;\">\n",
       "      <th></th>\n",
       "      <th>ut_ms</th>\n",
       "      <th>sunmars_km</th>\n",
       "      <th>earthmars_km</th>\n",
       "      <th>sunmarsearthangle_deg</th>\n",
       "      <th>solarconstantmars</th>\n",
       "      <th>eclipseduration_min</th>\n",
       "      <th>occultationduration_min</th>\n",
       "    </tr>\n",
       "  </thead>\n",
       "  <tbody>\n",
       "    <tr>\n",
       "      <td>0</td>\n",
       "      <td>1219363200000</td>\n",
       "      <td>2.419389e+08</td>\n",
       "      <td>3.557560e+08</td>\n",
       "      <td>19.565076</td>\n",
       "      <td>522.263999</td>\n",
       "      <td>4.166667</td>\n",
       "      <td>27.400000</td>\n",
       "    </tr>\n",
       "    <tr>\n",
       "      <td>1</td>\n",
       "      <td>1219449600000</td>\n",
       "      <td>2.418002e+08</td>\n",
       "      <td>3.563037e+08</td>\n",
       "      <td>19.390075</td>\n",
       "      <td>522.863537</td>\n",
       "      <td>1.783333</td>\n",
       "      <td>26.933333</td>\n",
       "    </tr>\n",
       "    <tr>\n",
       "      <td>2</td>\n",
       "      <td>1219536000000</td>\n",
       "      <td>2.416603e+08</td>\n",
       "      <td>3.568432e+08</td>\n",
       "      <td>19.214734</td>\n",
       "      <td>523.468926</td>\n",
       "      <td>0.000000</td>\n",
       "      <td>26.583333</td>\n",
       "    </tr>\n",
       "    <tr>\n",
       "      <td>3</td>\n",
       "      <td>1219622400000</td>\n",
       "      <td>2.415193e+08</td>\n",
       "      <td>3.573744e+08</td>\n",
       "      <td>19.039052</td>\n",
       "      <td>524.080161</td>\n",
       "      <td>0.000000</td>\n",
       "      <td>26.100000</td>\n",
       "    </tr>\n",
       "    <tr>\n",
       "      <td>4</td>\n",
       "      <td>1219708800000</td>\n",
       "      <td>2.413773e+08</td>\n",
       "      <td>3.578973e+08</td>\n",
       "      <td>18.863029</td>\n",
       "      <td>524.697233</td>\n",
       "      <td>0.000000</td>\n",
       "      <td>25.750000</td>\n",
       "    </tr>\n",
       "  </tbody>\n",
       "</table>\n",
       "</div>"
      ],
      "text/plain": [
       "           ut_ms    sunmars_km  earthmars_km  sunmarsearthangle_deg  \\\n",
       "0  1219363200000  2.419389e+08  3.557560e+08              19.565076   \n",
       "1  1219449600000  2.418002e+08  3.563037e+08              19.390075   \n",
       "2  1219536000000  2.416603e+08  3.568432e+08              19.214734   \n",
       "3  1219622400000  2.415193e+08  3.573744e+08              19.039052   \n",
       "4  1219708800000  2.413773e+08  3.578973e+08              18.863029   \n",
       "\n",
       "   solarconstantmars  eclipseduration_min  occultationduration_min  \n",
       "0         522.263999             4.166667                27.400000  \n",
       "1         522.863537             1.783333                26.933333  \n",
       "2         523.468926             0.000000                26.583333  \n",
       "3         524.080161             0.000000                26.100000  \n",
       "4         524.697233             0.000000                25.750000  "
      ]
     },
     "execution_count": 9,
     "metadata": {},
     "output_type": "execute_result"
    }
   ],
   "source": [
    "data_full_df.head()"
   ]
  },
  {
   "cell_type": "code",
   "execution_count": 10,
   "metadata": {},
   "outputs": [],
   "source": [
    "#defin \"round_down\"\n",
    "\n",
    "import math\n",
    "def round_down(x):\n",
    "    return int (math.floor(x - 1219363200000\t)/1000/60/60/24+1)"
   ]
  },
  {
   "cell_type": "code",
   "execution_count": 11,
   "metadata": {},
   "outputs": [
    {
     "data": {
      "text/html": [
       "<div>\n",
       "<style scoped>\n",
       "    .dataframe tbody tr th:only-of-type {\n",
       "        vertical-align: middle;\n",
       "    }\n",
       "\n",
       "    .dataframe tbody tr th {\n",
       "        vertical-align: top;\n",
       "    }\n",
       "\n",
       "    .dataframe thead th {\n",
       "        text-align: right;\n",
       "    }\n",
       "</style>\n",
       "<table border=\"1\" class=\"dataframe\">\n",
       "  <thead>\n",
       "    <tr style=\"text-align: right;\">\n",
       "      <th></th>\n",
       "      <th>ut_ms</th>\n",
       "      <th>description</th>\n",
       "      <th>round_time</th>\n",
       "    </tr>\n",
       "  </thead>\n",
       "  <tbody>\n",
       "    <tr>\n",
       "      <td>0</td>\n",
       "      <td>1219364253000</td>\n",
       "      <td>MLG_LOS_05_/_RTLT_02373</td>\n",
       "      <td>1</td>\n",
       "    </tr>\n",
       "    <tr>\n",
       "      <td>1</td>\n",
       "      <td>1219364356000</td>\n",
       "      <td>NNO_AOS_00_/_RTLT_02373</td>\n",
       "      <td>1</td>\n",
       "    </tr>\n",
       "    <tr>\n",
       "      <td>2</td>\n",
       "      <td>1219365058000</td>\n",
       "      <td>MLG_LOS_02_/_RTLT_02373</td>\n",
       "      <td>1</td>\n",
       "    </tr>\n",
       "    <tr>\n",
       "      <td>3</td>\n",
       "      <td>1219365755000</td>\n",
       "      <td>NNO_AOS_05_/_RTLT_02373</td>\n",
       "      <td>1</td>\n",
       "    </tr>\n",
       "    <tr>\n",
       "      <td>4</td>\n",
       "      <td>1219367159000</td>\n",
       "      <td>NNO_AOS_10_/_RTLT_02374</td>\n",
       "      <td>1</td>\n",
       "    </tr>\n",
       "  </tbody>\n",
       "</table>\n",
       "</div>"
      ],
      "text/plain": [
       "           ut_ms              description  round_time\n",
       "0  1219364253000  MLG_LOS_05_/_RTLT_02373           1\n",
       "1  1219364356000  NNO_AOS_00_/_RTLT_02373           1\n",
       "2  1219365058000  MLG_LOS_02_/_RTLT_02373           1\n",
       "3  1219365755000  NNO_AOS_05_/_RTLT_02373           1\n",
       "4  1219367159000  NNO_AOS_10_/_RTLT_02374           1"
      ]
     },
     "execution_count": 11,
     "metadata": {},
     "output_type": "execute_result"
    }
   ],
   "source": [
    "# round down the event_full_df\n",
    "round_event = event_full_df['ut_ms'].apply(round_down)\n",
    "event_full_df['round_time'] = round_event\n",
    "event_full_df.head()"
   ]
  },
  {
   "cell_type": "code",
   "execution_count": 12,
   "metadata": {},
   "outputs": [
    {
     "data": {
      "text/html": [
       "<div>\n",
       "<style scoped>\n",
       "    .dataframe tbody tr th:only-of-type {\n",
       "        vertical-align: middle;\n",
       "    }\n",
       "\n",
       "    .dataframe tbody tr th {\n",
       "        vertical-align: top;\n",
       "    }\n",
       "\n",
       "    .dataframe thead th {\n",
       "        text-align: right;\n",
       "    }\n",
       "</style>\n",
       "<table border=\"1\" class=\"dataframe\">\n",
       "  <thead>\n",
       "    <tr style=\"text-align: right;\">\n",
       "      <th></th>\n",
       "      <th>ut_ms</th>\n",
       "      <th>description</th>\n",
       "      <th>round_time</th>\n",
       "    </tr>\n",
       "  </thead>\n",
       "  <tbody>\n",
       "    <tr>\n",
       "      <td>0</td>\n",
       "      <td>1219371152000</td>\n",
       "      <td>MAR_PENUMBRA_END</td>\n",
       "      <td>1</td>\n",
       "    </tr>\n",
       "    <tr>\n",
       "      <td>1</td>\n",
       "      <td>1219395791000</td>\n",
       "      <td>MAR_PENUMBRA_END</td>\n",
       "      <td>1</td>\n",
       "    </tr>\n",
       "    <tr>\n",
       "      <td>2</td>\n",
       "      <td>1219420417000</td>\n",
       "      <td>MAR_PENUMBRA_END</td>\n",
       "      <td>1</td>\n",
       "    </tr>\n",
       "    <tr>\n",
       "      <td>3</td>\n",
       "      <td>1219445050000</td>\n",
       "      <td>MAR_PENUMBRA_END</td>\n",
       "      <td>1</td>\n",
       "    </tr>\n",
       "    <tr>\n",
       "      <td>4</td>\n",
       "      <td>1219469664000</td>\n",
       "      <td>MAR_PENUMBRA_END</td>\n",
       "      <td>2</td>\n",
       "    </tr>\n",
       "  </tbody>\n",
       "</table>\n",
       "</div>"
      ],
      "text/plain": [
       "           ut_ms       description  round_time\n",
       "0  1219371152000  MAR_PENUMBRA_END           1\n",
       "1  1219395791000  MAR_PENUMBRA_END           1\n",
       "2  1219420417000  MAR_PENUMBRA_END           1\n",
       "3  1219445050000  MAR_PENUMBRA_END           1\n",
       "4  1219469664000  MAR_PENUMBRA_END           2"
      ]
     },
     "execution_count": 12,
     "metadata": {},
     "output_type": "execute_result"
    }
   ],
   "source": [
    "#pick up the eclipse events - Penumbra 'start' and 'end'\n",
    "\n",
    "ut_ms_list = []\n",
    "desc_list = []\n",
    "round_list = []\n",
    "\n",
    "next (event_full_df.iterrows())\n",
    "for index, row in event_full_df.iterrows():\n",
    "    if (row['description'] == \"MAR_PENUMBRA_END\"):\n",
    "        ut_ms_list.append (row['ut_ms'])\n",
    "        desc_list.append (row['description'])\n",
    "        round_list.append (row['round_time'])\n",
    "        \n",
    "\n",
    "event_filter_dict = {'ut_ms': ut_ms_list,\n",
    "                   'description': desc_list,\n",
    "                   'round_time': round_list\n",
    "    \n",
    "}\n",
    "\n",
    "event_filter_df = pd.DataFrame(event_filter_dict)\n",
    "\n",
    "event_filter_df.head()"
   ]
  },
  {
   "cell_type": "code",
   "execution_count": 13,
   "metadata": {},
   "outputs": [
    {
     "data": {
      "text/plain": [
       "5025"
      ]
     },
     "execution_count": 13,
     "metadata": {},
     "output_type": "execute_result"
    }
   ],
   "source": [
    "# find the duration of each eclipse \n",
    "time_start = 0\n",
    "time_end = 0\n",
    "duration = []\n",
    "\n",
    "next (event_full_df.iterrows())\n",
    "for index, row in event_full_df.iterrows():\n",
    "    if (row['description']== \"MAR_PENUMBRA_START\" ):\n",
    "        time_start = row['ut_ms']\n",
    "\n",
    "    if (row['description'] == \"MAR_PENUMBRA_END\"):\n",
    "        time_end = row['ut_ms']\n",
    "        duration.append((time_end - time_start)/60/1000)\n",
    "         \n",
    "len(duration)"
   ]
  },
  {
   "cell_type": "code",
   "execution_count": 14,
   "metadata": {},
   "outputs": [
    {
     "data": {
      "text/html": [
       "<div>\n",
       "<style scoped>\n",
       "    .dataframe tbody tr th:only-of-type {\n",
       "        vertical-align: middle;\n",
       "    }\n",
       "\n",
       "    .dataframe tbody tr th {\n",
       "        vertical-align: top;\n",
       "    }\n",
       "\n",
       "    .dataframe thead th {\n",
       "        text-align: right;\n",
       "    }\n",
       "</style>\n",
       "<table border=\"1\" class=\"dataframe\">\n",
       "  <thead>\n",
       "    <tr style=\"text-align: right;\">\n",
       "      <th></th>\n",
       "      <th>ut_ms</th>\n",
       "      <th>description</th>\n",
       "      <th>round_time</th>\n",
       "      <th>duration</th>\n",
       "    </tr>\n",
       "  </thead>\n",
       "  <tbody>\n",
       "    <tr>\n",
       "      <td>0</td>\n",
       "      <td>1219371152000</td>\n",
       "      <td>MAR_PENUMBRA_END</td>\n",
       "      <td>1</td>\n",
       "      <td>4.166667</td>\n",
       "    </tr>\n",
       "    <tr>\n",
       "      <td>1</td>\n",
       "      <td>1219395791000</td>\n",
       "      <td>MAR_PENUMBRA_END</td>\n",
       "      <td>1</td>\n",
       "      <td>3.750000</td>\n",
       "    </tr>\n",
       "    <tr>\n",
       "      <td>2</td>\n",
       "      <td>1219420417000</td>\n",
       "      <td>MAR_PENUMBRA_END</td>\n",
       "      <td>1</td>\n",
       "      <td>3.150000</td>\n",
       "    </tr>\n",
       "    <tr>\n",
       "      <td>3</td>\n",
       "      <td>1219445050000</td>\n",
       "      <td>MAR_PENUMBRA_END</td>\n",
       "      <td>1</td>\n",
       "      <td>2.800000</td>\n",
       "    </tr>\n",
       "    <tr>\n",
       "      <td>4</td>\n",
       "      <td>1219469664000</td>\n",
       "      <td>MAR_PENUMBRA_END</td>\n",
       "      <td>2</td>\n",
       "      <td>1.783333</td>\n",
       "    </tr>\n",
       "  </tbody>\n",
       "</table>\n",
       "</div>"
      ],
      "text/plain": [
       "           ut_ms       description  round_time  duration\n",
       "0  1219371152000  MAR_PENUMBRA_END           1  4.166667\n",
       "1  1219395791000  MAR_PENUMBRA_END           1  3.750000\n",
       "2  1219420417000  MAR_PENUMBRA_END           1  3.150000\n",
       "3  1219445050000  MAR_PENUMBRA_END           1  2.800000\n",
       "4  1219469664000  MAR_PENUMBRA_END           2  1.783333"
      ]
     },
     "execution_count": 14,
     "metadata": {},
     "output_type": "execute_result"
    }
   ],
   "source": [
    "# add \"duration\" to event _filter_df\n",
    "event_filter_df['duration'] = duration\n",
    "event_filter_df.head()"
   ]
  },
  {
   "cell_type": "code",
   "execution_count": 15,
   "metadata": {},
   "outputs": [
    {
     "data": {
      "text/html": [
       "<div>\n",
       "<style scoped>\n",
       "    .dataframe tbody tr th:only-of-type {\n",
       "        vertical-align: middle;\n",
       "    }\n",
       "\n",
       "    .dataframe tbody tr th {\n",
       "        vertical-align: top;\n",
       "    }\n",
       "\n",
       "    .dataframe thead th {\n",
       "        text-align: right;\n",
       "    }\n",
       "</style>\n",
       "<table border=\"1\" class=\"dataframe\">\n",
       "  <thead>\n",
       "    <tr style=\"text-align: right;\">\n",
       "      <th></th>\n",
       "      <th>ut_ms</th>\n",
       "      <th>sunmars_km</th>\n",
       "      <th>earthmars_km</th>\n",
       "      <th>sunmarsearthangle_deg</th>\n",
       "      <th>solarconstantmars</th>\n",
       "      <th>eclipseduration_min</th>\n",
       "      <th>occultationduration_min</th>\n",
       "      <th>round_time</th>\n",
       "    </tr>\n",
       "  </thead>\n",
       "  <tbody>\n",
       "    <tr>\n",
       "      <td>0</td>\n",
       "      <td>1219363200000</td>\n",
       "      <td>2.419389e+08</td>\n",
       "      <td>3.557560e+08</td>\n",
       "      <td>19.565076</td>\n",
       "      <td>522.263999</td>\n",
       "      <td>4.166667</td>\n",
       "      <td>27.400000</td>\n",
       "      <td>1</td>\n",
       "    </tr>\n",
       "    <tr>\n",
       "      <td>1</td>\n",
       "      <td>1219449600000</td>\n",
       "      <td>2.418002e+08</td>\n",
       "      <td>3.563037e+08</td>\n",
       "      <td>19.390075</td>\n",
       "      <td>522.863537</td>\n",
       "      <td>1.783333</td>\n",
       "      <td>26.933333</td>\n",
       "      <td>2</td>\n",
       "    </tr>\n",
       "    <tr>\n",
       "      <td>2</td>\n",
       "      <td>1219536000000</td>\n",
       "      <td>2.416603e+08</td>\n",
       "      <td>3.568432e+08</td>\n",
       "      <td>19.214734</td>\n",
       "      <td>523.468926</td>\n",
       "      <td>0.000000</td>\n",
       "      <td>26.583333</td>\n",
       "      <td>3</td>\n",
       "    </tr>\n",
       "    <tr>\n",
       "      <td>3</td>\n",
       "      <td>1219622400000</td>\n",
       "      <td>2.415193e+08</td>\n",
       "      <td>3.573744e+08</td>\n",
       "      <td>19.039052</td>\n",
       "      <td>524.080161</td>\n",
       "      <td>0.000000</td>\n",
       "      <td>26.100000</td>\n",
       "      <td>4</td>\n",
       "    </tr>\n",
       "    <tr>\n",
       "      <td>4</td>\n",
       "      <td>1219708800000</td>\n",
       "      <td>2.413773e+08</td>\n",
       "      <td>3.578973e+08</td>\n",
       "      <td>18.863029</td>\n",
       "      <td>524.697233</td>\n",
       "      <td>0.000000</td>\n",
       "      <td>25.750000</td>\n",
       "      <td>5</td>\n",
       "    </tr>\n",
       "  </tbody>\n",
       "</table>\n",
       "</div>"
      ],
      "text/plain": [
       "           ut_ms    sunmars_km  earthmars_km  sunmarsearthangle_deg  \\\n",
       "0  1219363200000  2.419389e+08  3.557560e+08              19.565076   \n",
       "1  1219449600000  2.418002e+08  3.563037e+08              19.390075   \n",
       "2  1219536000000  2.416603e+08  3.568432e+08              19.214734   \n",
       "3  1219622400000  2.415193e+08  3.573744e+08              19.039052   \n",
       "4  1219708800000  2.413773e+08  3.578973e+08              18.863029   \n",
       "\n",
       "   solarconstantmars  eclipseduration_min  occultationduration_min  round_time  \n",
       "0         522.263999             4.166667                27.400000           1  \n",
       "1         522.863537             1.783333                26.933333           2  \n",
       "2         523.468926             0.000000                26.583333           3  \n",
       "3         524.080161             0.000000                26.100000           4  \n",
       "4         524.697233             0.000000                25.750000           5  "
      ]
     },
     "execution_count": 15,
     "metadata": {},
     "output_type": "execute_result"
    }
   ],
   "source": [
    "#round down the data_full_df\n",
    "round_data = data_full_df['ut_ms'].apply(round_down)\n",
    "data_full_df['round_time'] = round_data\n",
    "data_full_df.head()"
   ]
  },
  {
   "cell_type": "code",
   "execution_count": 16,
   "metadata": {},
   "outputs": [],
   "source": [
    "data_full_df[\"Year\"]=\"\"\n",
    "\n",
    "#assigning year values to \"Years\" column\n",
    "#1 martian year = 687 days\n",
    "\n",
    "martian_year = 687\n",
    "year = 1\n",
    "\n",
    "for index,rows in data_full_df.iterrows():\n",
    "    # remainders 0 to 686\n",
    "    days = index % martian_year\n",
    "    \n",
    "    data_full_df.loc[index,\"Year\"] = \"year\" + str(year)\n",
    "    \n",
    "    if days == martian_year - 1:\n",
    "        year+=1\n",
    "        "
   ]
  },
  {
   "cell_type": "code",
   "execution_count": 17,
   "metadata": {},
   "outputs": [],
   "source": [
    "#data_full_df.groupby(['Year']).count()"
   ]
  },
  {
   "cell_type": "code",
   "execution_count": 18,
   "metadata": {},
   "outputs": [
    {
     "data": {
      "text/html": [
       "<div>\n",
       "<style scoped>\n",
       "    .dataframe tbody tr th:only-of-type {\n",
       "        vertical-align: middle;\n",
       "    }\n",
       "\n",
       "    .dataframe tbody tr th {\n",
       "        vertical-align: top;\n",
       "    }\n",
       "\n",
       "    .dataframe thead th {\n",
       "        text-align: right;\n",
       "    }\n",
       "</style>\n",
       "<table border=\"1\" class=\"dataframe\">\n",
       "  <thead>\n",
       "    <tr style=\"text-align: right;\">\n",
       "      <th></th>\n",
       "      <th>ut_ms</th>\n",
       "      <th>sunmars_km</th>\n",
       "      <th>earthmars_km</th>\n",
       "      <th>sunmarsearthangle_deg</th>\n",
       "      <th>solarconstantmars</th>\n",
       "      <th>eclipseduration_min</th>\n",
       "      <th>occultationduration_min</th>\n",
       "      <th>round_time</th>\n",
       "      <th>Year</th>\n",
       "    </tr>\n",
       "  </thead>\n",
       "  <tbody>\n",
       "    <tr>\n",
       "      <td>0</td>\n",
       "      <td>1219363200000</td>\n",
       "      <td>2.419389e+08</td>\n",
       "      <td>3.557560e+08</td>\n",
       "      <td>19.565076</td>\n",
       "      <td>522.263999</td>\n",
       "      <td>4.166667</td>\n",
       "      <td>27.400000</td>\n",
       "      <td>1</td>\n",
       "      <td>year1</td>\n",
       "    </tr>\n",
       "    <tr>\n",
       "      <td>1</td>\n",
       "      <td>1219449600000</td>\n",
       "      <td>2.418002e+08</td>\n",
       "      <td>3.563037e+08</td>\n",
       "      <td>19.390075</td>\n",
       "      <td>522.863537</td>\n",
       "      <td>1.783333</td>\n",
       "      <td>26.933333</td>\n",
       "      <td>2</td>\n",
       "      <td>year1</td>\n",
       "    </tr>\n",
       "    <tr>\n",
       "      <td>2</td>\n",
       "      <td>1219536000000</td>\n",
       "      <td>2.416603e+08</td>\n",
       "      <td>3.568432e+08</td>\n",
       "      <td>19.214734</td>\n",
       "      <td>523.468926</td>\n",
       "      <td>0.000000</td>\n",
       "      <td>26.583333</td>\n",
       "      <td>3</td>\n",
       "      <td>year1</td>\n",
       "    </tr>\n",
       "    <tr>\n",
       "      <td>3</td>\n",
       "      <td>1219622400000</td>\n",
       "      <td>2.415193e+08</td>\n",
       "      <td>3.573744e+08</td>\n",
       "      <td>19.039052</td>\n",
       "      <td>524.080161</td>\n",
       "      <td>0.000000</td>\n",
       "      <td>26.100000</td>\n",
       "      <td>4</td>\n",
       "      <td>year1</td>\n",
       "    </tr>\n",
       "    <tr>\n",
       "      <td>4</td>\n",
       "      <td>1219708800000</td>\n",
       "      <td>2.413773e+08</td>\n",
       "      <td>3.578973e+08</td>\n",
       "      <td>18.863029</td>\n",
       "      <td>524.697233</td>\n",
       "      <td>0.000000</td>\n",
       "      <td>25.750000</td>\n",
       "      <td>5</td>\n",
       "      <td>year1</td>\n",
       "    </tr>\n",
       "  </tbody>\n",
       "</table>\n",
       "</div>"
      ],
      "text/plain": [
       "           ut_ms    sunmars_km  earthmars_km  sunmarsearthangle_deg  \\\n",
       "0  1219363200000  2.419389e+08  3.557560e+08              19.565076   \n",
       "1  1219449600000  2.418002e+08  3.563037e+08              19.390075   \n",
       "2  1219536000000  2.416603e+08  3.568432e+08              19.214734   \n",
       "3  1219622400000  2.415193e+08  3.573744e+08              19.039052   \n",
       "4  1219708800000  2.413773e+08  3.578973e+08              18.863029   \n",
       "\n",
       "   solarconstantmars  eclipseduration_min  occultationduration_min  \\\n",
       "0         522.263999             4.166667                27.400000   \n",
       "1         522.863537             1.783333                26.933333   \n",
       "2         523.468926             0.000000                26.583333   \n",
       "3         524.080161             0.000000                26.100000   \n",
       "4         524.697233             0.000000                25.750000   \n",
       "\n",
       "   round_time   Year  \n",
       "0           1  year1  \n",
       "1           2  year1  \n",
       "2           3  year1  \n",
       "3           4  year1  \n",
       "4           5  year1  "
      ]
     },
     "execution_count": 18,
     "metadata": {},
     "output_type": "execute_result"
    }
   ],
   "source": [
    "data_full_df.head()"
   ]
  },
  {
   "cell_type": "code",
   "execution_count": 19,
   "metadata": {},
   "outputs": [
    {
     "name": "stderr",
     "output_type": "stream",
     "text": [
      "C:\\Users\\mahat\\Anaconda3\\lib\\site-packages\\ipykernel_launcher.py:9: SettingWithCopyWarning: \n",
      "A value is trying to be set on a copy of a slice from a DataFrame\n",
      "\n",
      "See the caveats in the documentation: http://pandas.pydata.org/pandas-docs/stable/user_guide/indexing.html#returning-a-view-versus-a-copy\n",
      "  if __name__ == '__main__':\n",
      "C:\\Users\\mahat\\Anaconda3\\lib\\site-packages\\ipykernel_launcher.py:19: SettingWithCopyWarning: \n",
      "A value is trying to be set on a copy of a slice from a DataFrame\n",
      "\n",
      "See the caveats in the documentation: http://pandas.pydata.org/pandas-docs/stable/user_guide/indexing.html#returning-a-view-versus-a-copy\n",
      "C:\\Users\\mahat\\Anaconda3\\lib\\site-packages\\ipykernel_launcher.py:17: SettingWithCopyWarning: \n",
      "A value is trying to be set on a copy of a slice from a DataFrame\n",
      "\n",
      "See the caveats in the documentation: http://pandas.pydata.org/pandas-docs/stable/user_guide/indexing.html#returning-a-view-versus-a-copy\n"
     ]
    },
    {
     "data": {
      "text/html": [
       "<div>\n",
       "<style scoped>\n",
       "    .dataframe tbody tr th:only-of-type {\n",
       "        vertical-align: middle;\n",
       "    }\n",
       "\n",
       "    .dataframe tbody tr th {\n",
       "        vertical-align: top;\n",
       "    }\n",
       "\n",
       "    .dataframe thead th {\n",
       "        text-align: right;\n",
       "    }\n",
       "</style>\n",
       "<table border=\"1\" class=\"dataframe\">\n",
       "  <thead>\n",
       "    <tr style=\"text-align: right;\">\n",
       "      <th></th>\n",
       "      <th>ut_ms</th>\n",
       "      <th>sunmars_km</th>\n",
       "      <th>earthmars_km</th>\n",
       "      <th>sunmarsearthangle_deg</th>\n",
       "      <th>solarconstantmars</th>\n",
       "      <th>eclipseduration_min</th>\n",
       "      <th>occultationduration_min</th>\n",
       "      <th>round_time</th>\n",
       "      <th>Year</th>\n",
       "      <th>season</th>\n",
       "      <th>group</th>\n",
       "    </tr>\n",
       "  </thead>\n",
       "  <tbody>\n",
       "    <tr>\n",
       "      <td>0</td>\n",
       "      <td>1219363200000</td>\n",
       "      <td>2.419389e+08</td>\n",
       "      <td>3.557560e+08</td>\n",
       "      <td>19.565076</td>\n",
       "      <td>522.263999</td>\n",
       "      <td>4.166667</td>\n",
       "      <td>27.400000</td>\n",
       "      <td>1</td>\n",
       "      <td>year1</td>\n",
       "      <td>1</td>\n",
       "      <td></td>\n",
       "    </tr>\n",
       "    <tr>\n",
       "      <td>1</td>\n",
       "      <td>1219449600000</td>\n",
       "      <td>2.418002e+08</td>\n",
       "      <td>3.563037e+08</td>\n",
       "      <td>19.390075</td>\n",
       "      <td>522.863537</td>\n",
       "      <td>1.783333</td>\n",
       "      <td>26.933333</td>\n",
       "      <td>2</td>\n",
       "      <td>year1</td>\n",
       "      <td>1</td>\n",
       "      <td></td>\n",
       "    </tr>\n",
       "    <tr>\n",
       "      <td>2</td>\n",
       "      <td>1219536000000</td>\n",
       "      <td>2.416603e+08</td>\n",
       "      <td>3.568432e+08</td>\n",
       "      <td>19.214734</td>\n",
       "      <td>523.468926</td>\n",
       "      <td>0.000000</td>\n",
       "      <td>26.583333</td>\n",
       "      <td>3</td>\n",
       "      <td>year1</td>\n",
       "      <td>1</td>\n",
       "      <td></td>\n",
       "    </tr>\n",
       "    <tr>\n",
       "      <td>3</td>\n",
       "      <td>1219622400000</td>\n",
       "      <td>2.415193e+08</td>\n",
       "      <td>3.573744e+08</td>\n",
       "      <td>19.039052</td>\n",
       "      <td>524.080161</td>\n",
       "      <td>0.000000</td>\n",
       "      <td>26.100000</td>\n",
       "      <td>4</td>\n",
       "      <td>year1</td>\n",
       "      <td>1</td>\n",
       "      <td></td>\n",
       "    </tr>\n",
       "    <tr>\n",
       "      <td>4</td>\n",
       "      <td>1219708800000</td>\n",
       "      <td>2.413773e+08</td>\n",
       "      <td>3.578973e+08</td>\n",
       "      <td>18.863029</td>\n",
       "      <td>524.697233</td>\n",
       "      <td>0.000000</td>\n",
       "      <td>25.750000</td>\n",
       "      <td>5</td>\n",
       "      <td>year1</td>\n",
       "      <td>1</td>\n",
       "      <td></td>\n",
       "    </tr>\n",
       "  </tbody>\n",
       "</table>\n",
       "</div>"
      ],
      "text/plain": [
       "           ut_ms    sunmars_km  earthmars_km  sunmarsearthangle_deg  \\\n",
       "0  1219363200000  2.419389e+08  3.557560e+08              19.565076   \n",
       "1  1219449600000  2.418002e+08  3.563037e+08              19.390075   \n",
       "2  1219536000000  2.416603e+08  3.568432e+08              19.214734   \n",
       "3  1219622400000  2.415193e+08  3.573744e+08              19.039052   \n",
       "4  1219708800000  2.413773e+08  3.578973e+08              18.863029   \n",
       "\n",
       "   solarconstantmars  eclipseduration_min  occultationduration_min  \\\n",
       "0         522.263999             4.166667                27.400000   \n",
       "1         522.863537             1.783333                26.933333   \n",
       "2         523.468926             0.000000                26.583333   \n",
       "3         524.080161             0.000000                26.100000   \n",
       "4         524.697233             0.000000                25.750000   \n",
       "\n",
       "   round_time   Year season group  \n",
       "0           1  year1      1        \n",
       "1           2  year1      1        \n",
       "2           3  year1      1        \n",
       "3           4  year1      1        \n",
       "4           5  year1      1        "
      ]
     },
     "execution_count": 19,
     "metadata": {},
     "output_type": "execute_result"
    }
   ],
   "source": [
    "#adding new columns to check for increasing and decreasing Sun-Mars distance\n",
    "data_full_df['season'] = \"\"\n",
    "data_full_df['group'] = \"\"\n",
    "# adding the first row element in \"season\" column - serves as the previous distance to compare with current distance\n",
    "if data_full_df['sunmars_km'][0] < data_full_df['sunmars_km'][1]:\n",
    "    data_full_df['season'][0]=2\n",
    "    prev_ele = data_full_df['sunmars_km'][0]\n",
    "else:\n",
    "    data_full_df['season'][0]=1\n",
    "    prev_ele = data_full_df['sunmars_km'][0]\n",
    "#-----------------------------------------------------------------------------\n",
    "#itering from second row to end\n",
    "# filling 1 for decreasing Sun-Mars distance , 2 for Sun-Mars increasing distance\n",
    "for i in range(1,len(data_full_df)):\n",
    "    #print(i)\n",
    "    if prev_ele < data_full_df['sunmars_km'][i]:\n",
    "        data_full_df['season'][i]=2\n",
    "    else:\n",
    "        data_full_df['season'][i]=1\n",
    "    prev_ele=data_full_df['sunmars_km'][i]\n",
    "data_full_df.head()"
   ]
  },
  {
   "cell_type": "code",
   "execution_count": 20,
   "metadata": {},
   "outputs": [],
   "source": [
    "col_len = len(data_full_df['season'])\n",
    "start = [0]\n",
    "stop = []\n",
    "total_shifts = 1\n",
    "for i in range(1,col_len):\n",
    "    if data_full_df['season'][i-1] != data_full_df['season'][i]:\n",
    "        total_shifts+=1\n",
    "        start.append(i)\n",
    "        stop.append(i-1)\n",
    "stop.append(col_len-1)"
   ]
  },
  {
   "cell_type": "code",
   "execution_count": 21,
   "metadata": {},
   "outputs": [
    {
     "name": "stderr",
     "output_type": "stream",
     "text": [
      "C:\\Users\\mahat\\Anaconda3\\lib\\site-packages\\ipykernel_launcher.py:8: SettingWithCopyWarning: \n",
      "A value is trying to be set on a copy of a slice from a DataFrame\n",
      "\n",
      "See the caveats in the documentation: http://pandas.pydata.org/pandas-docs/stable/user_guide/indexing.html#returning-a-view-versus-a-copy\n",
      "  \n"
     ]
    }
   ],
   "source": [
    "for i in range(total_shifts):\n",
    "    #print(i)\n",
    "    shift_name = \"\"\n",
    "    shift_name = \"Distance_shift-\" + str(i+1)\n",
    "    #print(shift_name)\n",
    "    for j in range(start[i],stop[i]+1):\n",
    "        #print (i)\n",
    "        data_full_df[\"group\"][j] = shift_name"
   ]
  },
  {
   "cell_type": "code",
   "execution_count": 22,
   "metadata": {},
   "outputs": [
    {
     "data": {
      "text/html": [
       "<div>\n",
       "<style scoped>\n",
       "    .dataframe tbody tr th:only-of-type {\n",
       "        vertical-align: middle;\n",
       "    }\n",
       "\n",
       "    .dataframe tbody tr th {\n",
       "        vertical-align: top;\n",
       "    }\n",
       "\n",
       "    .dataframe thead th {\n",
       "        text-align: right;\n",
       "    }\n",
       "</style>\n",
       "<table border=\"1\" class=\"dataframe\">\n",
       "  <thead>\n",
       "    <tr style=\"text-align: right;\">\n",
       "      <th></th>\n",
       "      <th>ut_ms</th>\n",
       "      <th>sunmars_km</th>\n",
       "      <th>earthmars_km</th>\n",
       "      <th>sunmarsearthangle_deg</th>\n",
       "      <th>solarconstantmars</th>\n",
       "      <th>eclipseduration_min</th>\n",
       "      <th>occultationduration_min</th>\n",
       "      <th>round_time</th>\n",
       "      <th>Year</th>\n",
       "      <th>season</th>\n",
       "      <th>group</th>\n",
       "    </tr>\n",
       "  </thead>\n",
       "  <tbody>\n",
       "    <tr>\n",
       "      <td>0</td>\n",
       "      <td>1219363200000</td>\n",
       "      <td>2.419389e+08</td>\n",
       "      <td>3.557560e+08</td>\n",
       "      <td>19.565076</td>\n",
       "      <td>522.263999</td>\n",
       "      <td>4.166667</td>\n",
       "      <td>27.400000</td>\n",
       "      <td>1</td>\n",
       "      <td>year1</td>\n",
       "      <td>1</td>\n",
       "      <td>Distance_shift-1</td>\n",
       "    </tr>\n",
       "    <tr>\n",
       "      <td>1</td>\n",
       "      <td>1219449600000</td>\n",
       "      <td>2.418002e+08</td>\n",
       "      <td>3.563037e+08</td>\n",
       "      <td>19.390075</td>\n",
       "      <td>522.863537</td>\n",
       "      <td>1.783333</td>\n",
       "      <td>26.933333</td>\n",
       "      <td>2</td>\n",
       "      <td>year1</td>\n",
       "      <td>1</td>\n",
       "      <td>Distance_shift-1</td>\n",
       "    </tr>\n",
       "    <tr>\n",
       "      <td>2</td>\n",
       "      <td>1219536000000</td>\n",
       "      <td>2.416603e+08</td>\n",
       "      <td>3.568432e+08</td>\n",
       "      <td>19.214734</td>\n",
       "      <td>523.468926</td>\n",
       "      <td>0.000000</td>\n",
       "      <td>26.583333</td>\n",
       "      <td>3</td>\n",
       "      <td>year1</td>\n",
       "      <td>1</td>\n",
       "      <td>Distance_shift-1</td>\n",
       "    </tr>\n",
       "    <tr>\n",
       "      <td>3</td>\n",
       "      <td>1219622400000</td>\n",
       "      <td>2.415193e+08</td>\n",
       "      <td>3.573744e+08</td>\n",
       "      <td>19.039052</td>\n",
       "      <td>524.080161</td>\n",
       "      <td>0.000000</td>\n",
       "      <td>26.100000</td>\n",
       "      <td>4</td>\n",
       "      <td>year1</td>\n",
       "      <td>1</td>\n",
       "      <td>Distance_shift-1</td>\n",
       "    </tr>\n",
       "    <tr>\n",
       "      <td>4</td>\n",
       "      <td>1219708800000</td>\n",
       "      <td>2.413773e+08</td>\n",
       "      <td>3.578973e+08</td>\n",
       "      <td>18.863029</td>\n",
       "      <td>524.697233</td>\n",
       "      <td>0.000000</td>\n",
       "      <td>25.750000</td>\n",
       "      <td>5</td>\n",
       "      <td>year1</td>\n",
       "      <td>1</td>\n",
       "      <td>Distance_shift-1</td>\n",
       "    </tr>\n",
       "  </tbody>\n",
       "</table>\n",
       "</div>"
      ],
      "text/plain": [
       "           ut_ms    sunmars_km  earthmars_km  sunmarsearthangle_deg  \\\n",
       "0  1219363200000  2.419389e+08  3.557560e+08              19.565076   \n",
       "1  1219449600000  2.418002e+08  3.563037e+08              19.390075   \n",
       "2  1219536000000  2.416603e+08  3.568432e+08              19.214734   \n",
       "3  1219622400000  2.415193e+08  3.573744e+08              19.039052   \n",
       "4  1219708800000  2.413773e+08  3.578973e+08              18.863029   \n",
       "\n",
       "   solarconstantmars  eclipseduration_min  occultationduration_min  \\\n",
       "0         522.263999             4.166667                27.400000   \n",
       "1         522.863537             1.783333                26.933333   \n",
       "2         523.468926             0.000000                26.583333   \n",
       "3         524.080161             0.000000                26.100000   \n",
       "4         524.697233             0.000000                25.750000   \n",
       "\n",
       "   round_time   Year season             group  \n",
       "0           1  year1      1  Distance_shift-1  \n",
       "1           2  year1      1  Distance_shift-1  \n",
       "2           3  year1      1  Distance_shift-1  \n",
       "3           4  year1      1  Distance_shift-1  \n",
       "4           5  year1      1  Distance_shift-1  "
      ]
     },
     "execution_count": 22,
     "metadata": {},
     "output_type": "execute_result"
    }
   ],
   "source": [
    "data_full_df.head()"
   ]
  },
  {
   "cell_type": "code",
   "execution_count": 23,
   "metadata": {},
   "outputs": [
    {
     "data": {
      "text/html": [
       "<div>\n",
       "<style scoped>\n",
       "    .dataframe tbody tr th:only-of-type {\n",
       "        vertical-align: middle;\n",
       "    }\n",
       "\n",
       "    .dataframe tbody tr th {\n",
       "        vertical-align: top;\n",
       "    }\n",
       "\n",
       "    .dataframe thead th {\n",
       "        text-align: right;\n",
       "    }\n",
       "</style>\n",
       "<table border=\"1\" class=\"dataframe\">\n",
       "  <thead>\n",
       "    <tr style=\"text-align: right;\">\n",
       "      <th></th>\n",
       "      <th>ut_ms_x</th>\n",
       "      <th>description</th>\n",
       "      <th>round_time</th>\n",
       "      <th>duration</th>\n",
       "      <th>ut_ms_y</th>\n",
       "      <th>sunmars_km</th>\n",
       "      <th>earthmars_km</th>\n",
       "      <th>sunmarsearthangle_deg</th>\n",
       "      <th>solarconstantmars</th>\n",
       "      <th>eclipseduration_min</th>\n",
       "      <th>occultationduration_min</th>\n",
       "      <th>Year</th>\n",
       "      <th>season</th>\n",
       "      <th>group</th>\n",
       "    </tr>\n",
       "  </thead>\n",
       "  <tbody>\n",
       "    <tr>\n",
       "      <td>0</td>\n",
       "      <td>1219371152000</td>\n",
       "      <td>MAR_PENUMBRA_END</td>\n",
       "      <td>1</td>\n",
       "      <td>4.166667</td>\n",
       "      <td>1219363200000</td>\n",
       "      <td>2.419389e+08</td>\n",
       "      <td>3.557560e+08</td>\n",
       "      <td>19.565076</td>\n",
       "      <td>522.263999</td>\n",
       "      <td>4.166667</td>\n",
       "      <td>27.400000</td>\n",
       "      <td>year1</td>\n",
       "      <td>1</td>\n",
       "      <td>Distance_shift-1</td>\n",
       "    </tr>\n",
       "    <tr>\n",
       "      <td>1</td>\n",
       "      <td>1219395791000</td>\n",
       "      <td>MAR_PENUMBRA_END</td>\n",
       "      <td>1</td>\n",
       "      <td>3.750000</td>\n",
       "      <td>1219363200000</td>\n",
       "      <td>2.419389e+08</td>\n",
       "      <td>3.557560e+08</td>\n",
       "      <td>19.565076</td>\n",
       "      <td>522.263999</td>\n",
       "      <td>4.166667</td>\n",
       "      <td>27.400000</td>\n",
       "      <td>year1</td>\n",
       "      <td>1</td>\n",
       "      <td>Distance_shift-1</td>\n",
       "    </tr>\n",
       "    <tr>\n",
       "      <td>2</td>\n",
       "      <td>1219420417000</td>\n",
       "      <td>MAR_PENUMBRA_END</td>\n",
       "      <td>1</td>\n",
       "      <td>3.150000</td>\n",
       "      <td>1219363200000</td>\n",
       "      <td>2.419389e+08</td>\n",
       "      <td>3.557560e+08</td>\n",
       "      <td>19.565076</td>\n",
       "      <td>522.263999</td>\n",
       "      <td>4.166667</td>\n",
       "      <td>27.400000</td>\n",
       "      <td>year1</td>\n",
       "      <td>1</td>\n",
       "      <td>Distance_shift-1</td>\n",
       "    </tr>\n",
       "    <tr>\n",
       "      <td>3</td>\n",
       "      <td>1219445050000</td>\n",
       "      <td>MAR_PENUMBRA_END</td>\n",
       "      <td>1</td>\n",
       "      <td>2.800000</td>\n",
       "      <td>1219363200000</td>\n",
       "      <td>2.419389e+08</td>\n",
       "      <td>3.557560e+08</td>\n",
       "      <td>19.565076</td>\n",
       "      <td>522.263999</td>\n",
       "      <td>4.166667</td>\n",
       "      <td>27.400000</td>\n",
       "      <td>year1</td>\n",
       "      <td>1</td>\n",
       "      <td>Distance_shift-1</td>\n",
       "    </tr>\n",
       "    <tr>\n",
       "      <td>4</td>\n",
       "      <td>1219469664000</td>\n",
       "      <td>MAR_PENUMBRA_END</td>\n",
       "      <td>2</td>\n",
       "      <td>1.783333</td>\n",
       "      <td>1219449600000</td>\n",
       "      <td>2.418002e+08</td>\n",
       "      <td>3.563037e+08</td>\n",
       "      <td>19.390075</td>\n",
       "      <td>522.863537</td>\n",
       "      <td>1.783333</td>\n",
       "      <td>26.933333</td>\n",
       "      <td>year1</td>\n",
       "      <td>1</td>\n",
       "      <td>Distance_shift-1</td>\n",
       "    </tr>\n",
       "  </tbody>\n",
       "</table>\n",
       "</div>"
      ],
      "text/plain": [
       "         ut_ms_x       description  round_time  duration        ut_ms_y  \\\n",
       "0  1219371152000  MAR_PENUMBRA_END           1  4.166667  1219363200000   \n",
       "1  1219395791000  MAR_PENUMBRA_END           1  3.750000  1219363200000   \n",
       "2  1219420417000  MAR_PENUMBRA_END           1  3.150000  1219363200000   \n",
       "3  1219445050000  MAR_PENUMBRA_END           1  2.800000  1219363200000   \n",
       "4  1219469664000  MAR_PENUMBRA_END           2  1.783333  1219449600000   \n",
       "\n",
       "     sunmars_km  earthmars_km  sunmarsearthangle_deg  solarconstantmars  \\\n",
       "0  2.419389e+08  3.557560e+08              19.565076         522.263999   \n",
       "1  2.419389e+08  3.557560e+08              19.565076         522.263999   \n",
       "2  2.419389e+08  3.557560e+08              19.565076         522.263999   \n",
       "3  2.419389e+08  3.557560e+08              19.565076         522.263999   \n",
       "4  2.418002e+08  3.563037e+08              19.390075         522.863537   \n",
       "\n",
       "   eclipseduration_min  occultationduration_min   Year season  \\\n",
       "0             4.166667                27.400000  year1      1   \n",
       "1             4.166667                27.400000  year1      1   \n",
       "2             4.166667                27.400000  year1      1   \n",
       "3             4.166667                27.400000  year1      1   \n",
       "4             1.783333                26.933333  year1      1   \n",
       "\n",
       "              group  \n",
       "0  Distance_shift-1  \n",
       "1  Distance_shift-1  \n",
       "2  Distance_shift-1  \n",
       "3  Distance_shift-1  \n",
       "4  Distance_shift-1  "
      ]
     },
     "execution_count": 23,
     "metadata": {},
     "output_type": "execute_result"
    }
   ],
   "source": [
    "#merge event_filter_df and data_full_df into Mars_full_df\n",
    "\n",
    "mars_full_df = pd.merge(event_filter_df,data_full_df,on = 'round_time')\n",
    "mars_full_df.head()"
   ]
  },
  {
   "cell_type": "code",
   "execution_count": null,
   "metadata": {},
   "outputs": [],
   "source": []
  },
  {
   "cell_type": "code",
   "execution_count": 24,
   "metadata": {},
   "outputs": [
    {
     "name": "stderr",
     "output_type": "stream",
     "text": [
      "C:\\Users\\mahat\\Anaconda3\\lib\\site-packages\\ipykernel_launcher.py:19: SettingWithCopyWarning: \n",
      "A value is trying to be set on a copy of a slice from a DataFrame\n",
      "\n",
      "See the caveats in the documentation: http://pandas.pydata.org/pandas-docs/stable/user_guide/indexing.html#returning-a-view-versus-a-copy\n",
      "C:\\Users\\mahat\\Anaconda3\\lib\\site-packages\\ipykernel_launcher.py:15: SettingWithCopyWarning: \n",
      "A value is trying to be set on a copy of a slice from a DataFrame\n",
      "\n",
      "See the caveats in the documentation: http://pandas.pydata.org/pandas-docs/stable/user_guide/indexing.html#returning-a-view-versus-a-copy\n",
      "  from ipykernel import kernelapp as app\n",
      "C:\\Users\\mahat\\Anaconda3\\lib\\site-packages\\ipykernel_launcher.py:29: SettingWithCopyWarning: \n",
      "A value is trying to be set on a copy of a slice from a DataFrame\n",
      "\n",
      "See the caveats in the documentation: http://pandas.pydata.org/pandas-docs/stable/user_guide/indexing.html#returning-a-view-versus-a-copy\n"
     ]
    },
    {
     "data": {
      "text/html": [
       "<div>\n",
       "<style scoped>\n",
       "    .dataframe tbody tr th:only-of-type {\n",
       "        vertical-align: middle;\n",
       "    }\n",
       "\n",
       "    .dataframe tbody tr th {\n",
       "        vertical-align: top;\n",
       "    }\n",
       "\n",
       "    .dataframe thead th {\n",
       "        text-align: right;\n",
       "    }\n",
       "</style>\n",
       "<table border=\"1\" class=\"dataframe\">\n",
       "  <thead>\n",
       "    <tr style=\"text-align: right;\">\n",
       "      <th></th>\n",
       "      <th>ut_ms_x</th>\n",
       "      <th>description</th>\n",
       "      <th>round_time</th>\n",
       "      <th>duration</th>\n",
       "      <th>ut_ms_y</th>\n",
       "      <th>sunmars_km</th>\n",
       "      <th>earthmars_km</th>\n",
       "      <th>sunmarsearthangle_deg</th>\n",
       "      <th>solarconstantmars</th>\n",
       "      <th>eclipseduration_min</th>\n",
       "      <th>occultationduration_min</th>\n",
       "      <th>Year</th>\n",
       "      <th>season</th>\n",
       "      <th>group</th>\n",
       "      <th>year</th>\n",
       "      <th>day</th>\n",
       "    </tr>\n",
       "  </thead>\n",
       "  <tbody>\n",
       "    <tr>\n",
       "      <td>0</td>\n",
       "      <td>1219371152000</td>\n",
       "      <td>MAR_PENUMBRA_END</td>\n",
       "      <td>1</td>\n",
       "      <td>4.166667</td>\n",
       "      <td>1219363200000</td>\n",
       "      <td>2.419389e+08</td>\n",
       "      <td>3.557560e+08</td>\n",
       "      <td>19.565076</td>\n",
       "      <td>522.263999</td>\n",
       "      <td>4.166667</td>\n",
       "      <td>27.400000</td>\n",
       "      <td>year1</td>\n",
       "      <td>1</td>\n",
       "      <td>Distance_shift-1</td>\n",
       "      <td>1</td>\n",
       "      <td>1</td>\n",
       "    </tr>\n",
       "    <tr>\n",
       "      <td>1</td>\n",
       "      <td>1219395791000</td>\n",
       "      <td>MAR_PENUMBRA_END</td>\n",
       "      <td>1</td>\n",
       "      <td>3.750000</td>\n",
       "      <td>1219363200000</td>\n",
       "      <td>2.419389e+08</td>\n",
       "      <td>3.557560e+08</td>\n",
       "      <td>19.565076</td>\n",
       "      <td>522.263999</td>\n",
       "      <td>4.166667</td>\n",
       "      <td>27.400000</td>\n",
       "      <td>year1</td>\n",
       "      <td>1</td>\n",
       "      <td>Distance_shift-1</td>\n",
       "      <td>1</td>\n",
       "      <td>1</td>\n",
       "    </tr>\n",
       "    <tr>\n",
       "      <td>2</td>\n",
       "      <td>1219420417000</td>\n",
       "      <td>MAR_PENUMBRA_END</td>\n",
       "      <td>1</td>\n",
       "      <td>3.150000</td>\n",
       "      <td>1219363200000</td>\n",
       "      <td>2.419389e+08</td>\n",
       "      <td>3.557560e+08</td>\n",
       "      <td>19.565076</td>\n",
       "      <td>522.263999</td>\n",
       "      <td>4.166667</td>\n",
       "      <td>27.400000</td>\n",
       "      <td>year1</td>\n",
       "      <td>1</td>\n",
       "      <td>Distance_shift-1</td>\n",
       "      <td>1</td>\n",
       "      <td>1</td>\n",
       "    </tr>\n",
       "    <tr>\n",
       "      <td>3</td>\n",
       "      <td>1219445050000</td>\n",
       "      <td>MAR_PENUMBRA_END</td>\n",
       "      <td>1</td>\n",
       "      <td>2.800000</td>\n",
       "      <td>1219363200000</td>\n",
       "      <td>2.419389e+08</td>\n",
       "      <td>3.557560e+08</td>\n",
       "      <td>19.565076</td>\n",
       "      <td>522.263999</td>\n",
       "      <td>4.166667</td>\n",
       "      <td>27.400000</td>\n",
       "      <td>year1</td>\n",
       "      <td>1</td>\n",
       "      <td>Distance_shift-1</td>\n",
       "      <td>1</td>\n",
       "      <td>1</td>\n",
       "    </tr>\n",
       "    <tr>\n",
       "      <td>4</td>\n",
       "      <td>1219469664000</td>\n",
       "      <td>MAR_PENUMBRA_END</td>\n",
       "      <td>2</td>\n",
       "      <td>1.783333</td>\n",
       "      <td>1219449600000</td>\n",
       "      <td>2.418002e+08</td>\n",
       "      <td>3.563037e+08</td>\n",
       "      <td>19.390075</td>\n",
       "      <td>522.863537</td>\n",
       "      <td>1.783333</td>\n",
       "      <td>26.933333</td>\n",
       "      <td>year1</td>\n",
       "      <td>1</td>\n",
       "      <td>Distance_shift-1</td>\n",
       "      <td>1</td>\n",
       "      <td>2</td>\n",
       "    </tr>\n",
       "  </tbody>\n",
       "</table>\n",
       "</div>"
      ],
      "text/plain": [
       "         ut_ms_x       description  round_time  duration        ut_ms_y  \\\n",
       "0  1219371152000  MAR_PENUMBRA_END           1  4.166667  1219363200000   \n",
       "1  1219395791000  MAR_PENUMBRA_END           1  3.750000  1219363200000   \n",
       "2  1219420417000  MAR_PENUMBRA_END           1  3.150000  1219363200000   \n",
       "3  1219445050000  MAR_PENUMBRA_END           1  2.800000  1219363200000   \n",
       "4  1219469664000  MAR_PENUMBRA_END           2  1.783333  1219449600000   \n",
       "\n",
       "     sunmars_km  earthmars_km  sunmarsearthangle_deg  solarconstantmars  \\\n",
       "0  2.419389e+08  3.557560e+08              19.565076         522.263999   \n",
       "1  2.419389e+08  3.557560e+08              19.565076         522.263999   \n",
       "2  2.419389e+08  3.557560e+08              19.565076         522.263999   \n",
       "3  2.419389e+08  3.557560e+08              19.565076         522.263999   \n",
       "4  2.418002e+08  3.563037e+08              19.390075         522.863537   \n",
       "\n",
       "   eclipseduration_min  occultationduration_min   Year season  \\\n",
       "0             4.166667                27.400000  year1      1   \n",
       "1             4.166667                27.400000  year1      1   \n",
       "2             4.166667                27.400000  year1      1   \n",
       "3             4.166667                27.400000  year1      1   \n",
       "4             1.783333                26.933333  year1      1   \n",
       "\n",
       "              group year day  \n",
       "0  Distance_shift-1    1   1  \n",
       "1  Distance_shift-1    1   1  \n",
       "2  Distance_shift-1    1   1  \n",
       "3  Distance_shift-1    1   1  \n",
       "4  Distance_shift-1    1   2  "
      ]
     },
     "execution_count": 24,
     "metadata": {},
     "output_type": "execute_result"
    }
   ],
   "source": [
    "year = 0\n",
    "Martian_year = 687\n",
    "mars_full_df[\"year\"]=\"\"\n",
    "mars_full_df[\"day\"]=\"\"\n",
    "\n",
    "# number of yeard from combined data - 4 \n",
    "\n",
    "year_list = list(data_full_df[\"Year\"].unique())\n",
    "year_list\n",
    "\n",
    "# assigning day numbers 1 to 687 for each martain year -- 1 martian year = 687 days\n",
    "\n",
    "for i in range(len(mars_full_df)):\n",
    "    if mars_full_df[\"round_time\"][i] % martian_year == 0:\n",
    "        mars_full_df[\"day\"][i]=Martian_year\n",
    "  \n",
    "    else:\n",
    "        days = mars_full_df[\"round_time\"][i] % martian_year\n",
    "        mars_full_df[\"day\"][i] = days\n",
    "\n",
    "        \n",
    "#assigning year values to \"Years\" column\n",
    "#1 martian year = 687 days\n",
    "                \n",
    "for j in range(len(year_list)):\n",
    "    year+=1\n",
    "    for i in range(len(mars_full_df)):\n",
    "        if Martian_year*j < mars_full_df[\"round_time\"][i] <= Martian_year*(j+1):\n",
    "            mars_full_df[\"year\"][i] = year    \n",
    "            \n",
    "mars_full_df.head(5)\n",
    "\n"
   ]
  },
  {
   "cell_type": "code",
   "execution_count": 25,
   "metadata": {},
   "outputs": [
    {
     "data": {
      "text/html": [
       "<div>\n",
       "<style scoped>\n",
       "    .dataframe tbody tr th:only-of-type {\n",
       "        vertical-align: middle;\n",
       "    }\n",
       "\n",
       "    .dataframe tbody tr th {\n",
       "        vertical-align: top;\n",
       "    }\n",
       "\n",
       "    .dataframe thead th {\n",
       "        text-align: right;\n",
       "    }\n",
       "</style>\n",
       "<table border=\"1\" class=\"dataframe\">\n",
       "  <thead>\n",
       "    <tr style=\"text-align: right;\">\n",
       "      <th></th>\n",
       "      <th>eclipse_day</th>\n",
       "      <th>duration</th>\n",
       "      <th>sunmars_km</th>\n",
       "      <th>earthmars_km</th>\n",
       "      <th>sunmarsearthangle_deg</th>\n",
       "      <th>solarconstantmars</th>\n",
       "      <th>year</th>\n",
       "      <th>dist_shift</th>\n",
       "      <th>day</th>\n",
       "    </tr>\n",
       "  </thead>\n",
       "  <tbody>\n",
       "    <tr>\n",
       "      <td>0</td>\n",
       "      <td>1</td>\n",
       "      <td>4.166667</td>\n",
       "      <td>2.419389e+08</td>\n",
       "      <td>3.557560e+08</td>\n",
       "      <td>19.565076</td>\n",
       "      <td>522.263999</td>\n",
       "      <td>1</td>\n",
       "      <td>Distance_shift-1</td>\n",
       "      <td>1</td>\n",
       "    </tr>\n",
       "    <tr>\n",
       "      <td>1</td>\n",
       "      <td>1</td>\n",
       "      <td>3.750000</td>\n",
       "      <td>2.419389e+08</td>\n",
       "      <td>3.557560e+08</td>\n",
       "      <td>19.565076</td>\n",
       "      <td>522.263999</td>\n",
       "      <td>1</td>\n",
       "      <td>Distance_shift-1</td>\n",
       "      <td>1</td>\n",
       "    </tr>\n",
       "    <tr>\n",
       "      <td>2</td>\n",
       "      <td>1</td>\n",
       "      <td>3.150000</td>\n",
       "      <td>2.419389e+08</td>\n",
       "      <td>3.557560e+08</td>\n",
       "      <td>19.565076</td>\n",
       "      <td>522.263999</td>\n",
       "      <td>1</td>\n",
       "      <td>Distance_shift-1</td>\n",
       "      <td>1</td>\n",
       "    </tr>\n",
       "    <tr>\n",
       "      <td>3</td>\n",
       "      <td>1</td>\n",
       "      <td>2.800000</td>\n",
       "      <td>2.419389e+08</td>\n",
       "      <td>3.557560e+08</td>\n",
       "      <td>19.565076</td>\n",
       "      <td>522.263999</td>\n",
       "      <td>1</td>\n",
       "      <td>Distance_shift-1</td>\n",
       "      <td>1</td>\n",
       "    </tr>\n",
       "    <tr>\n",
       "      <td>4</td>\n",
       "      <td>2</td>\n",
       "      <td>1.783333</td>\n",
       "      <td>2.418002e+08</td>\n",
       "      <td>3.563037e+08</td>\n",
       "      <td>19.390075</td>\n",
       "      <td>522.863537</td>\n",
       "      <td>1</td>\n",
       "      <td>Distance_shift-1</td>\n",
       "      <td>2</td>\n",
       "    </tr>\n",
       "  </tbody>\n",
       "</table>\n",
       "</div>"
      ],
      "text/plain": [
       "   eclipse_day  duration    sunmars_km  earthmars_km  sunmarsearthangle_deg  \\\n",
       "0            1  4.166667  2.419389e+08  3.557560e+08              19.565076   \n",
       "1            1  3.750000  2.419389e+08  3.557560e+08              19.565076   \n",
       "2            1  3.150000  2.419389e+08  3.557560e+08              19.565076   \n",
       "3            1  2.800000  2.419389e+08  3.557560e+08              19.565076   \n",
       "4            2  1.783333  2.418002e+08  3.563037e+08              19.390075   \n",
       "\n",
       "   solarconstantmars year        dist_shift day  \n",
       "0         522.263999    1  Distance_shift-1   1  \n",
       "1         522.263999    1  Distance_shift-1   1  \n",
       "2         522.263999    1  Distance_shift-1   1  \n",
       "3         522.263999    1  Distance_shift-1   1  \n",
       "4         522.863537    1  Distance_shift-1   2  "
      ]
     },
     "execution_count": 25,
     "metadata": {},
     "output_type": "execute_result"
    }
   ],
   "source": [
    "#  select useful column to get the final_df\n",
    "\n",
    "final_dict = {\"eclipse_day\":[],\n",
    "              \"duration\":[],\n",
    "              \"sunmars_km\":[],\n",
    "              \"earthmars_km\":[],\n",
    "              \"sunmarsearthangle_deg\":[],\n",
    "              \"solarconstantmars\":[],\n",
    "              \"year\":[],\n",
    "              \"dist_shift\":[],\n",
    "              \"day\":[]\n",
    "    \n",
    "}\n",
    "\n",
    "final_dict[\"eclipse_day\"] = mars_full_df[\"round_time\"]\n",
    "final_dict[\"duration\"] = mars_full_df[\"duration\"]\n",
    "final_dict[\"sunmars_km\"] = mars_full_df[\"sunmars_km\"]\n",
    "final_dict[\"earthmars_km\"] = mars_full_df[\"earthmars_km\"]\n",
    "final_dict[\"sunmarsearthangle_deg\"] = mars_full_df[\"sunmarsearthangle_deg\"]\n",
    "final_dict[\"solarconstantmars\"] = mars_full_df[\"solarconstantmars\"]\n",
    "final_dict[\"dist_shift\"] = mars_full_df[\"group\"]\n",
    "final_dict[\"year\"] = mars_full_df[\"year\"]\n",
    "final_dict[\"day\"]=mars_full_df[\"day\"]\n",
    "\n",
    "\n",
    "final_df = pd.DataFrame(final_dict)\n",
    "\n",
    "final_df.head()"
   ]
  },
  {
   "cell_type": "code",
   "execution_count": 26,
   "metadata": {},
   "outputs": [],
   "source": [
    "output_data_file = \"final_data.csv\"\n",
    "final_df.to_csv(output_data_file)"
   ]
  },
  {
   "cell_type": "code",
   "execution_count": 27,
   "metadata": {},
   "outputs": [],
   "source": [
    "#final.groupby('year').count()\n",
    "year_df = final_df[[\"year\",\"day\",\"eclipse_day\"]]\n",
    "#year_df"
   ]
  },
  {
   "cell_type": "code",
   "execution_count": 28,
   "metadata": {},
   "outputs": [
    {
     "data": {
      "text/html": [
       "<div>\n",
       "<style scoped>\n",
       "    .dataframe tbody tr th:only-of-type {\n",
       "        vertical-align: middle;\n",
       "    }\n",
       "\n",
       "    .dataframe tbody tr th {\n",
       "        vertical-align: top;\n",
       "    }\n",
       "\n",
       "    .dataframe thead th {\n",
       "        text-align: right;\n",
       "    }\n",
       "</style>\n",
       "<table border=\"1\" class=\"dataframe\">\n",
       "  <thead>\n",
       "    <tr style=\"text-align: right;\">\n",
       "      <th></th>\n",
       "      <th>year</th>\n",
       "      <th>day</th>\n",
       "      <th>Total Eclipses recorded per day</th>\n",
       "    </tr>\n",
       "  </thead>\n",
       "  <tbody>\n",
       "    <tr>\n",
       "      <td>0</td>\n",
       "      <td>1</td>\n",
       "      <td>1</td>\n",
       "      <td>4</td>\n",
       "    </tr>\n",
       "    <tr>\n",
       "      <td>1</td>\n",
       "      <td>1</td>\n",
       "      <td>2</td>\n",
       "      <td>2</td>\n",
       "    </tr>\n",
       "    <tr>\n",
       "      <td>2</td>\n",
       "      <td>1</td>\n",
       "      <td>169</td>\n",
       "      <td>2</td>\n",
       "    </tr>\n",
       "    <tr>\n",
       "      <td>3</td>\n",
       "      <td>1</td>\n",
       "      <td>170</td>\n",
       "      <td>4</td>\n",
       "    </tr>\n",
       "    <tr>\n",
       "      <td>4</td>\n",
       "      <td>1</td>\n",
       "      <td>171</td>\n",
       "      <td>3</td>\n",
       "    </tr>\n",
       "  </tbody>\n",
       "</table>\n",
       "</div>"
      ],
      "text/plain": [
       "   year  day  Total Eclipses recorded per day\n",
       "0     1    1                                4\n",
       "1     1    2                                2\n",
       "2     1  169                                2\n",
       "3     1  170                                4\n",
       "4     1  171                                3"
      ]
     },
     "execution_count": 28,
     "metadata": {},
     "output_type": "execute_result"
    }
   ],
   "source": [
    "yr_day_grpby = year_df.groupby([\"year\",\"day\"])\n",
    "\n",
    "count = yr_day_grpby['eclipse_day'].count()\n",
    "\n",
    "df = pd.DataFrame({\n",
    "    \"Total Eclipses recorded per day\": count\n",
    "})\n",
    "final = df.reset_index()\n",
    "final.head()"
   ]
  },
  {
   "cell_type": "code",
   "execution_count": 29,
   "metadata": {},
   "outputs": [
    {
     "name": "stderr",
     "output_type": "stream",
     "text": [
      "C:\\Users\\mahat\\Anaconda3\\lib\\site-packages\\ipykernel_launcher.py:14: SettingWithCopyWarning: \n",
      "A value is trying to be set on a copy of a slice from a DataFrame\n",
      "\n",
      "See the caveats in the documentation: http://pandas.pydata.org/pandas-docs/stable/user_guide/indexing.html#returning-a-view-versus-a-copy\n",
      "  \n"
     ]
    }
   ],
   "source": [
    "final[\"cum_count\"] = \"\"\n",
    "year_list = list(final[\"year\"].unique())   # year list from final data\n",
    "year_list\n",
    "\n",
    "\n",
    "#y axis values for each year - getting cumulative count of eclipses for each year\n",
    "for j in range(len(year_list)):\n",
    "    cum_value = 0\n",
    "    for i in range(len(final)):\n",
    "        if final['year'][i]==year_list[j]:\n",
    "            #print(final['year'][i])\n",
    "            cum_value = cum_value  + final[\"Total Eclipses recorded per day\"][i]\n",
    "            #print(cum_value)\n",
    "            final[\"cum_count\"][i] = cum_value             "
   ]
  },
  {
   "cell_type": "code",
   "execution_count": 30,
   "metadata": {},
   "outputs": [
    {
     "data": {
      "text/html": [
       "<div>\n",
       "<style scoped>\n",
       "    .dataframe tbody tr th:only-of-type {\n",
       "        vertical-align: middle;\n",
       "    }\n",
       "\n",
       "    .dataframe tbody tr th {\n",
       "        vertical-align: top;\n",
       "    }\n",
       "\n",
       "    .dataframe thead th {\n",
       "        text-align: right;\n",
       "    }\n",
       "</style>\n",
       "<table border=\"1\" class=\"dataframe\">\n",
       "  <thead>\n",
       "    <tr style=\"text-align: right;\">\n",
       "      <th></th>\n",
       "      <th>year</th>\n",
       "      <th>day</th>\n",
       "      <th>Total Eclipses recorded per day</th>\n",
       "      <th>cum_count</th>\n",
       "    </tr>\n",
       "  </thead>\n",
       "  <tbody>\n",
       "    <tr>\n",
       "      <td>0</td>\n",
       "      <td>1</td>\n",
       "      <td>1</td>\n",
       "      <td>4</td>\n",
       "      <td>4</td>\n",
       "    </tr>\n",
       "    <tr>\n",
       "      <td>1</td>\n",
       "      <td>1</td>\n",
       "      <td>2</td>\n",
       "      <td>2</td>\n",
       "      <td>6</td>\n",
       "    </tr>\n",
       "    <tr>\n",
       "      <td>2</td>\n",
       "      <td>1</td>\n",
       "      <td>169</td>\n",
       "      <td>2</td>\n",
       "      <td>8</td>\n",
       "    </tr>\n",
       "    <tr>\n",
       "      <td>3</td>\n",
       "      <td>1</td>\n",
       "      <td>170</td>\n",
       "      <td>4</td>\n",
       "      <td>12</td>\n",
       "    </tr>\n",
       "    <tr>\n",
       "      <td>4</td>\n",
       "      <td>1</td>\n",
       "      <td>171</td>\n",
       "      <td>3</td>\n",
       "      <td>15</td>\n",
       "    </tr>\n",
       "  </tbody>\n",
       "</table>\n",
       "</div>"
      ],
      "text/plain": [
       "   year  day  Total Eclipses recorded per day cum_count\n",
       "0     1    1                                4         4\n",
       "1     1    2                                2         6\n",
       "2     1  169                                2         8\n",
       "3     1  170                                4        12\n",
       "4     1  171                                3        15"
      ]
     },
     "execution_count": 30,
     "metadata": {},
     "output_type": "execute_result"
    }
   ],
   "source": [
    "#final[final['year']=='year4']\n",
    "final.head()"
   ]
  },
  {
   "cell_type": "code",
   "execution_count": 31,
   "metadata": {},
   "outputs": [
    {
     "data": {
      "image/png": "[encoded data removed]",
      "text/plain": [
       "<Figure size 432x288 with 1 Axes>"
      ]
     },
     "metadata": {
      "needs_background": "light"
     },
     "output_type": "display_data"
    }
   ],
   "source": [
    "x = [ [] for i in range(len(year_list))]\n",
    "y = [ [] for i in range(len(year_list))]\n",
    "\n",
    "martian_year = 687\n",
    "\n",
    "for j in range(len(year_list)):\n",
    "    for i in range(len(final)):\n",
    "        if final['year'][i]==year_list[j]:\n",
    "            x[j].append(final[\"day\"][i])\n",
    "            y[j].append(final[\"cum_count\"][i])\n",
    "            \n",
    "for j in range(len(year_list)):\n",
    "    plt.plot(x[j],y[j],label=year_list[j],linewidth=1)\n",
    "            \n",
    "\n",
    "plt.xlabel(\"Martian year - 687 days\")\n",
    "plt.ylabel(\"Number of Eclipses\")\n",
    "plt.title(\"Days Vs Eclipse Count\")\n",
    "#plt.xlim(-1,martian_year)\n",
    "plt.legend(loc = \"upper left\")\n",
    "plt.grid()\n",
    "\n",
    "# Save the Figure\n",
    "plt.savefig(\"Days Vs Eclipse Count.png\")\n",
    "\n",
    "#plt.savefig(\"../Images/Summary_Barchart.png\")\n",
    "plt.show()"
   ]
  },
  {
   "cell_type": "code",
   "execution_count": 32,
   "metadata": {},
   "outputs": [
    {
     "data": {
      "image/png": "[encoded data removed]",
      "text/plain": [
       "<Figure size 432x288 with 1 Axes>"
      ]
     },
     "metadata": {
      "needs_background": "light"
     },
     "output_type": "display_data"
    }
   ],
   "source": [
    "data_pd1.plot.line(x=\"sunmars_km\",y=\"eclipseduration_min\")\n",
    "plt.xlabel(\"Sun to Mars Distance(KM)\")\n",
    "plt.ylabel(\"Duration of the Eclipse(Mins)\")\n",
    "plt.title(\"2008 - 2010\")\n",
    "plt.grid()\n",
    "plt.savefig(\"year1.png\")"
   ]
  },
  {
   "cell_type": "code",
   "execution_count": 33,
   "metadata": {},
   "outputs": [
    {
     "data": {
      "image/png": "[encoded data removed]",
      "text/plain": [
       "<Figure size 432x288 with 1 Axes>"
      ]
     },
     "metadata": {
      "needs_background": "light"
     },
     "output_type": "display_data"
    }
   ],
   "source": [
    "data_pd2.plot.line(x=\"sunmars_km\",y=\"eclipseduration_min\")\n",
    "plt.xlabel(\"Sun to Mars distance(KM)\")\n",
    "plt.ylabel(\"Duration of the Eclipse(Mins)\")\n",
    "plt.title(\"2010 - 2012\")\n",
    "plt.grid()\n",
    "plt.savefig(\"year2.png\")"
   ]
  },
  {
   "cell_type": "code",
   "execution_count": 34,
   "metadata": {},
   "outputs": [
    {
     "data": {
      "image/png": "[encoded data removed]",
      "text/plain": [
       "<Figure size 432x288 with 1 Axes>"
      ]
     },
     "metadata": {
      "needs_background": "light"
     },
     "output_type": "display_data"
    }
   ],
   "source": [
    "data_pd3.plot.line(x=\"sunmars_km\",y=\"eclipseduration_min\")\n",
    "plt.title(\"2012 - 2014\")\n",
    "plt.xlabel(\"Sun to Mars distance(KM)\")\n",
    "plt.ylabel(\"Duration of the Eclipse(Mins)\")\n",
    "plt.savefig(\"Year3.png\")\n",
    "plt.grid()"
   ]
  },
  {
   "cell_type": "code",
   "execution_count": 35,
   "metadata": {},
   "outputs": [
    {
     "data": {
      "image/png": "[encoded data removed]",
      "text/plain": [
       "<Figure size 432x288 with 1 Axes>"
      ]
     },
     "metadata": {
      "needs_background": "light"
     },
     "output_type": "display_data"
    }
   ],
   "source": [
    "mx = data_pd4[\"sunmars_km\"].max()\n",
    "mx\n",
    "mn = data_pd4[\"sunmars_km\"].min()\n",
    "mn\n",
    "\n",
    "\n",
    "data_pd4.plot.line(x=\"sunmars_km\",y=\"eclipseduration_min\")\n",
    "plt.xlabel(\"Sun to Mars distance(KM)\")\n",
    "plt.ylabel(\"Duration of the Eclipse(Mins)\")\n",
    "plt.title(\"2014 - 2016\")\n",
    "plt.xlim(mn-10,mx+1)\n",
    "plt.grid()\n",
    "plt.savefig(\"Year4.png\")"
   ]
  },
  {
   "cell_type": "code",
   "execution_count": 36,
   "metadata": {},
   "outputs": [
    {
     "data": {
      "image/png": "[encoded data removed]",
      "text/plain": [
       "<Figure size 432x288 with 1 Axes>"
      ]
     },
     "metadata": {
      "needs_background": "light"
     },
     "output_type": "display_data"
    }
   ],
   "source": [
    "x = [ [] for i in range(len(year_list))]\n",
    "y = [ [] for i in range(len(year_list))]\n",
    "\n",
    "year_list = list(data_full_df[\"Year\"].unique())\n",
    "year_list\n",
    "\n",
    "#martian_year = 687\n",
    "\n",
    "for j in range(len(year_list)):\n",
    "    for i in range(len(data_full_df)):\n",
    "        if data_full_df['Year'][i]==year_list[j]:\n",
    "            x[j].append(data_full_df[\"sunmars_km\"][i])\n",
    "            y[j].append(data_full_df[\"eclipseduration_min\"][i])\n",
    "            \n",
    "for j in range(len(year_list)):\n",
    "    plt.plot(x[j],y[j],label=year_list[j],linewidth=1)\n",
    "            \n",
    "\n",
    "plt.xlabel(\"Sun to Mars distance(KM)\")\n",
    "plt.ylabel(\"Duration of the Eclipse(Mins)\")\n",
    "plt.title(\"Four Years - 2008 , 2010 , 2012 , 2014\")\n",
    "plt.savefig(\"All years.png\")\n",
    "#plt.xlim(-1,martian_year)\n",
    "plt.legend(loc = \"upper center\")\n",
    "plt.grid()\n",
    "# Save the Figure\n",
    "plt.savefig(\"All years.png\")\n",
    "\n",
    "plt.show()"
   ]
  },
  {
   "cell_type": "code",
   "execution_count": 37,
   "metadata": {},
   "outputs": [
    {
     "data": {
      "image/png": "[encoded data removed]",
      "text/plain": [
       "<Figure size 432x288 with 1 Axes>"
      ]
     },
     "metadata": {
      "needs_background": "light"
     },
     "output_type": "display_data"
    }
   ],
   "source": [
    "# plot the penctile of duration for each year\n",
    "x1 = []\n",
    "x2 = []\n",
    "x3 = []\n",
    "x4 = []\n",
    "for i in range(len(final_df)):\n",
    "    if final_df['year'][i]== 1:\n",
    "        x1.append(final_df['duration'][i])\n",
    "for i in range(len(final_df)):\n",
    "    if final_df['year'][i]== 2:\n",
    "        x2.append(final_df['duration'][i])   \n",
    "for i in range(len(final_df)):\n",
    "    if final_df['year'][i]== 3:\n",
    "        x3.append(final_df['duration'][i])\n",
    "for i in range(len(final_df)):\n",
    "    if final_df['year'][i]== 4:\n",
    "        x4.append(final_df['duration'][i])\n",
    "y1=(np.percentile(x1,(0,25,50,75,100)))\n",
    "y2=(np.percentile(x2,(0,25,50,75,100)))\n",
    "y3=(np.percentile(x3,(0,25,50,75,100)))\n",
    "y4=(np.percentile(x4,(0,25,50,75,100)))\n",
    "\n",
    "\n",
    "x_axis_1 = [1,1,1,1,1]\n",
    "x_axis_2 = [2,2,2,2,2]\n",
    "x_axis_3 = [3,3,3,3,3]\n",
    "x_axis_4 = [4,4,4,4,4]\n",
    "z= [\"year1\",'year2','year3','year4']\n",
    "\n",
    "\n",
    "plt.xticks([1,2,3,4], z)\n",
    "plt.ylabel('eclipse duration (min)')\n",
    "\n",
    "\n",
    "plt.title('percentiles of eclipse duration for each year')\n",
    "\n",
    "\n",
    "plt.plot(x_axis_1,y1,marker='o')\n",
    "plt.plot(x_axis_2,y2,marker='o')\n",
    "plt.plot(x_axis_3,y3,marker='o')\n",
    "plt.plot(x_axis_4,y4,marker='o')\n",
    "\n",
    "for x,y in zip(x_axis_1,y1):\n",
    "\n",
    "    label = \"{:.2f}\".format(y)\n",
    "\n",
    "    plt.annotate(round(y,2), # this is the text\n",
    "                 (x,y), # this is the point to label\n",
    "                 textcoords=\"offset points\", # how to position the text\n",
    "                 xytext=(18,-5), # distance from text to points (x,y)\n",
    "                 ha='center') # horizontal alignment can be left, right or center\n",
    "    \n",
    "    \n",
    "for x,y in zip(x_axis_2,y2):\n",
    "\n",
    "    label = \"{:.2f}\".format(y)\n",
    "\n",
    "    plt.annotate(round(y,2), # this is the text\n",
    "                 (x,y), # this is the point to label\n",
    "                 textcoords=\"offset points\", # how to position the text\n",
    "                 xytext=(18,-5), # distance from text to points (x,y)\n",
    "                 ha='center') # horizontal alignment can be left, right or center\n",
    "    \n",
    "for x,y in zip(x_axis_3,y3):\n",
    "\n",
    "    label = \"{:.2f}\".format(y)\n",
    "\n",
    "    plt.annotate(round(y,2), # this is the text\n",
    "                 (x,y), # this is the point to label\n",
    "                 textcoords=\"offset points\", # how to position the text\n",
    "                 xytext=(18,-5), # distance from text to points (x,y)\n",
    "                 ha='center') # horizontal alignment can be left, right or center    \n",
    "    \n",
    "for x,y in zip(x_axis_4,y4):\n",
    "\n",
    "    label = \"{:.2f}\".format(y)\n",
    "\n",
    "    plt.annotate(round(y,2), # this is the text\n",
    "                 (x,y), # this is the point to label\n",
    "                 textcoords=\"offset points\", # how to position the text\n",
    "                 xytext=(-18,-5), # distance from text to points (x,y)\n",
    "                 ha='center') # horizontal alignment can be left, right or center   \n",
    "    \n",
    "\n",
    "#plt.savefig('../mars_data_raw/percentiles of eclipse duration for each year.png')    \n",
    "plt.savefig('percentiles of eclipse duration for each year.png') "
   ]
  },
  {
   "cell_type": "code",
   "execution_count": 38,
   "metadata": {},
   "outputs": [
    {
     "data": {
      "text/html": [
       "<div>\n",
       "<style scoped>\n",
       "    .dataframe tbody tr th:only-of-type {\n",
       "        vertical-align: middle;\n",
       "    }\n",
       "\n",
       "    .dataframe tbody tr th {\n",
       "        vertical-align: top;\n",
       "    }\n",
       "\n",
       "    .dataframe thead th {\n",
       "        text-align: right;\n",
       "    }\n",
       "</style>\n",
       "<table border=\"1\" class=\"dataframe\">\n",
       "  <thead>\n",
       "    <tr style=\"text-align: right;\">\n",
       "      <th></th>\n",
       "      <th>year1</th>\n",
       "      <th>year2</th>\n",
       "      <th>year3</th>\n",
       "      <th>year4</th>\n",
       "    </tr>\n",
       "  </thead>\n",
       "  <tbody>\n",
       "    <tr>\n",
       "      <td>P0</td>\n",
       "      <td>0.5000</td>\n",
       "      <td>1.166667</td>\n",
       "      <td>0.983333</td>\n",
       "      <td>1.883333</td>\n",
       "    </tr>\n",
       "    <tr>\n",
       "      <td>P25</td>\n",
       "      <td>25.3375</td>\n",
       "      <td>22.916667</td>\n",
       "      <td>24.800000</td>\n",
       "      <td>22.691667</td>\n",
       "    </tr>\n",
       "    <tr>\n",
       "      <td>P50</td>\n",
       "      <td>39.5250</td>\n",
       "      <td>33.700000</td>\n",
       "      <td>33.316667</td>\n",
       "      <td>28.533333</td>\n",
       "    </tr>\n",
       "    <tr>\n",
       "      <td>P75</td>\n",
       "      <td>50.4875</td>\n",
       "      <td>41.850000</td>\n",
       "      <td>36.983333</td>\n",
       "      <td>34.566667</td>\n",
       "    </tr>\n",
       "    <tr>\n",
       "      <td>P100</td>\n",
       "      <td>55.4500</td>\n",
       "      <td>48.583333</td>\n",
       "      <td>42.200000</td>\n",
       "      <td>39.200000</td>\n",
       "    </tr>\n",
       "  </tbody>\n",
       "</table>\n",
       "</div>"
      ],
      "text/plain": [
       "        year1      year2      year3      year4\n",
       "P0     0.5000   1.166667   0.983333   1.883333\n",
       "P25   25.3375  22.916667  24.800000  22.691667\n",
       "P50   39.5250  33.700000  33.316667  28.533333\n",
       "P75   50.4875  41.850000  36.983333  34.566667\n",
       "P100  55.4500  48.583333  42.200000  39.200000"
      ]
     },
     "execution_count": 38,
     "metadata": {},
     "output_type": "execute_result"
    }
   ],
   "source": [
    "#print the percentile\n",
    "per_dict = {'year1':y1,\n",
    "            'year2':y2,\n",
    "            'year3':y3,\n",
    "            'year4':y4\n",
    "    \n",
    "}\n",
    "\n",
    "per_pd = pd.DataFrame(per_dict)\n",
    "per_pd.index = ('P0','P25','P50','P75','P100')\n",
    "per_pd"
   ]
  },
  {
   "cell_type": "code",
   "execution_count": 39,
   "metadata": {},
   "outputs": [
    {
     "data": {
      "text/html": [
       "<div>\n",
       "<style scoped>\n",
       "    .dataframe tbody tr th:only-of-type {\n",
       "        vertical-align: middle;\n",
       "    }\n",
       "\n",
       "    .dataframe tbody tr th {\n",
       "        vertical-align: top;\n",
       "    }\n",
       "\n",
       "    .dataframe thead th {\n",
       "        text-align: right;\n",
       "    }\n",
       "</style>\n",
       "<table border=\"1\" class=\"dataframe\">\n",
       "  <thead>\n",
       "    <tr style=\"text-align: right;\">\n",
       "      <th></th>\n",
       "      <th>eclipse_day</th>\n",
       "      <th>duration</th>\n",
       "      <th>sunmars_km</th>\n",
       "      <th>earthmars_km</th>\n",
       "      <th>sunmarsearthangle_deg</th>\n",
       "      <th>solarconstantmars</th>\n",
       "      <th>dist_shift</th>\n",
       "      <th>day</th>\n",
       "    </tr>\n",
       "    <tr>\n",
       "      <th>year</th>\n",
       "      <th></th>\n",
       "      <th></th>\n",
       "      <th></th>\n",
       "      <th></th>\n",
       "      <th></th>\n",
       "      <th></th>\n",
       "      <th></th>\n",
       "      <th></th>\n",
       "    </tr>\n",
       "  </thead>\n",
       "  <tbody>\n",
       "    <tr>\n",
       "      <td>1</td>\n",
       "      <td>608</td>\n",
       "      <td>55.450000</td>\n",
       "      <td>2.492207e+08</td>\n",
       "      <td>3.563037e+08</td>\n",
       "      <td>38.634521</td>\n",
       "      <td>715.899348</td>\n",
       "      <td>Distance_shift-3</td>\n",
       "      <td>608</td>\n",
       "    </tr>\n",
       "    <tr>\n",
       "      <td>2</td>\n",
       "      <td>1374</td>\n",
       "      <td>48.583333</td>\n",
       "      <td>2.459516e+08</td>\n",
       "      <td>3.559402e+08</td>\n",
       "      <td>38.396133</td>\n",
       "      <td>714.475079</td>\n",
       "      <td>Distance_shift-5</td>\n",
       "      <td>687</td>\n",
       "    </tr>\n",
       "    <tr>\n",
       "      <td>3</td>\n",
       "      <td>2061</td>\n",
       "      <td>42.200000</td>\n",
       "      <td>2.492276e+08</td>\n",
       "      <td>3.689899e+08</td>\n",
       "      <td>39.393036</td>\n",
       "      <td>706.462236</td>\n",
       "      <td>Distance_shift-7</td>\n",
       "      <td>687</td>\n",
       "    </tr>\n",
       "    <tr>\n",
       "      <td>4</td>\n",
       "      <td>2748</td>\n",
       "      <td>39.200000</td>\n",
       "      <td>2.492389e+08</td>\n",
       "      <td>3.692222e+08</td>\n",
       "      <td>42.552811</td>\n",
       "      <td>716.025624</td>\n",
       "      <td>Distance_shift-9</td>\n",
       "      <td>687</td>\n",
       "    </tr>\n",
       "  </tbody>\n",
       "</table>\n",
       "</div>"
      ],
      "text/plain": [
       "      eclipse_day   duration    sunmars_km  earthmars_km  \\\n",
       "year                                                       \n",
       "1             608  55.450000  2.492207e+08  3.563037e+08   \n",
       "2            1374  48.583333  2.459516e+08  3.559402e+08   \n",
       "3            2061  42.200000  2.492276e+08  3.689899e+08   \n",
       "4            2748  39.200000  2.492389e+08  3.692222e+08   \n",
       "\n",
       "      sunmarsearthangle_deg  solarconstantmars        dist_shift  day  \n",
       "year                                                                   \n",
       "1                 38.634521         715.899348  Distance_shift-3  608  \n",
       "2                 38.396133         714.475079  Distance_shift-5  687  \n",
       "3                 39.393036         706.462236  Distance_shift-7  687  \n",
       "4                 42.552811         716.025624  Distance_shift-9  687  "
      ]
     },
     "execution_count": 39,
     "metadata": {},
     "output_type": "execute_result"
    }
   ],
   "source": [
    "final_df.groupby(['year']).max()"
   ]
  },
  {
   "cell_type": "code",
   "execution_count": 40,
   "metadata": {},
   "outputs": [
    {
     "data": {
      "text/html": [
       "<div>\n",
       "<style scoped>\n",
       "    .dataframe tbody tr th:only-of-type {\n",
       "        vertical-align: middle;\n",
       "    }\n",
       "\n",
       "    .dataframe tbody tr th {\n",
       "        vertical-align: top;\n",
       "    }\n",
       "\n",
       "    .dataframe thead th {\n",
       "        text-align: right;\n",
       "    }\n",
       "</style>\n",
       "<table border=\"1\" class=\"dataframe\">\n",
       "  <thead>\n",
       "    <tr style=\"text-align: right;\">\n",
       "      <th></th>\n",
       "      <th>eclipse_day</th>\n",
       "      <th>duration</th>\n",
       "      <th>sunmars_km</th>\n",
       "      <th>earthmars_km</th>\n",
       "      <th>sunmarsearthangle_deg</th>\n",
       "      <th>solarconstantmars</th>\n",
       "      <th>year</th>\n",
       "      <th>day</th>\n",
       "    </tr>\n",
       "    <tr>\n",
       "      <th>dist_shift</th>\n",
       "      <th></th>\n",
       "      <th></th>\n",
       "      <th></th>\n",
       "      <th></th>\n",
       "      <th></th>\n",
       "      <th></th>\n",
       "      <th></th>\n",
       "      <th></th>\n",
       "    </tr>\n",
       "  </thead>\n",
       "  <tbody>\n",
       "    <tr>\n",
       "      <td>Distance_shift-1</td>\n",
       "      <td>266</td>\n",
       "      <td>266</td>\n",
       "      <td>266</td>\n",
       "      <td>266</td>\n",
       "      <td>266</td>\n",
       "      <td>266</td>\n",
       "      <td>266</td>\n",
       "      <td>266</td>\n",
       "    </tr>\n",
       "    <tr>\n",
       "      <td>Distance_shift-2</td>\n",
       "      <td>617</td>\n",
       "      <td>617</td>\n",
       "      <td>617</td>\n",
       "      <td>617</td>\n",
       "      <td>617</td>\n",
       "      <td>617</td>\n",
       "      <td>617</td>\n",
       "      <td>617</td>\n",
       "    </tr>\n",
       "    <tr>\n",
       "      <td>Distance_shift-3</td>\n",
       "      <td>600</td>\n",
       "      <td>600</td>\n",
       "      <td>600</td>\n",
       "      <td>600</td>\n",
       "      <td>600</td>\n",
       "      <td>600</td>\n",
       "      <td>600</td>\n",
       "      <td>600</td>\n",
       "    </tr>\n",
       "    <tr>\n",
       "      <td>Distance_shift-4</td>\n",
       "      <td>569</td>\n",
       "      <td>569</td>\n",
       "      <td>569</td>\n",
       "      <td>569</td>\n",
       "      <td>569</td>\n",
       "      <td>569</td>\n",
       "      <td>569</td>\n",
       "      <td>569</td>\n",
       "    </tr>\n",
       "    <tr>\n",
       "      <td>Distance_shift-5</td>\n",
       "      <td>641</td>\n",
       "      <td>641</td>\n",
       "      <td>641</td>\n",
       "      <td>641</td>\n",
       "      <td>641</td>\n",
       "      <td>641</td>\n",
       "      <td>641</td>\n",
       "      <td>641</td>\n",
       "    </tr>\n",
       "    <tr>\n",
       "      <td>Distance_shift-6</td>\n",
       "      <td>553</td>\n",
       "      <td>553</td>\n",
       "      <td>553</td>\n",
       "      <td>553</td>\n",
       "      <td>553</td>\n",
       "      <td>553</td>\n",
       "      <td>553</td>\n",
       "      <td>553</td>\n",
       "    </tr>\n",
       "    <tr>\n",
       "      <td>Distance_shift-7</td>\n",
       "      <td>756</td>\n",
       "      <td>756</td>\n",
       "      <td>756</td>\n",
       "      <td>756</td>\n",
       "      <td>756</td>\n",
       "      <td>756</td>\n",
       "      <td>756</td>\n",
       "      <td>756</td>\n",
       "    </tr>\n",
       "    <tr>\n",
       "      <td>Distance_shift-8</td>\n",
       "      <td>679</td>\n",
       "      <td>679</td>\n",
       "      <td>679</td>\n",
       "      <td>679</td>\n",
       "      <td>679</td>\n",
       "      <td>679</td>\n",
       "      <td>679</td>\n",
       "      <td>679</td>\n",
       "    </tr>\n",
       "    <tr>\n",
       "      <td>Distance_shift-9</td>\n",
       "      <td>344</td>\n",
       "      <td>344</td>\n",
       "      <td>344</td>\n",
       "      <td>344</td>\n",
       "      <td>344</td>\n",
       "      <td>344</td>\n",
       "      <td>344</td>\n",
       "      <td>344</td>\n",
       "    </tr>\n",
       "  </tbody>\n",
       "</table>\n",
       "</div>"
      ],
      "text/plain": [
       "                  eclipse_day  duration  sunmars_km  earthmars_km  \\\n",
       "dist_shift                                                          \n",
       "Distance_shift-1          266       266         266           266   \n",
       "Distance_shift-2          617       617         617           617   \n",
       "Distance_shift-3          600       600         600           600   \n",
       "Distance_shift-4          569       569         569           569   \n",
       "Distance_shift-5          641       641         641           641   \n",
       "Distance_shift-6          553       553         553           553   \n",
       "Distance_shift-7          756       756         756           756   \n",
       "Distance_shift-8          679       679         679           679   \n",
       "Distance_shift-9          344       344         344           344   \n",
       "\n",
       "                  sunmarsearthangle_deg  solarconstantmars  year  day  \n",
       "dist_shift                                                             \n",
       "Distance_shift-1                    266                266   266  266  \n",
       "Distance_shift-2                    617                617   617  617  \n",
       "Distance_shift-3                    600                600   600  600  \n",
       "Distance_shift-4                    569                569   569  569  \n",
       "Distance_shift-5                    641                641   641  641  \n",
       "Distance_shift-6                    553                553   553  553  \n",
       "Distance_shift-7                    756                756   756  756  \n",
       "Distance_shift-8                    679                679   679  679  \n",
       "Distance_shift-9                    344                344   344  344  "
      ]
     },
     "execution_count": 40,
     "metadata": {},
     "output_type": "execute_result"
    }
   ],
   "source": [
    "final_df.groupby(['dist_shift']).count()"
   ]
  },
  {
   "cell_type": "code",
   "execution_count": 41,
   "metadata": {},
   "outputs": [
    {
     "data": {
      "image/png": "[encoded data removed]",
      "text/plain": [
       "<Figure size 432x288 with 1 Axes>"
      ]
     },
     "metadata": {
      "needs_background": "light"
     },
     "output_type": "display_data"
    }
   ],
   "source": [
    "x = []\n",
    "for i in range(len(final_df)):\n",
    "    if final_df['dist_shift'][i] == \"Distance_shift-1\" :\n",
    "        x.append(final_df['duration'][i])\n",
    "        \n",
    "y = []\n",
    "for i in range(len(final_df)):\n",
    "    if final_df['dist_shift'][i] == \"Distance_shift-1\" :\n",
    "        y.append(final_df['sunmars_km'][i])\n",
    "        \n",
    "\n",
    "        \n",
    "plt.scatter(y,x)\n",
    "plt.xlabel('distance from mars to sun (km)')\n",
    "plt.ylabel('duration of eclipse (min)')\n",
    "plt.title ('Duration of eclipse vs distance from mars to sun group1')\n",
    "plt.grid(True)\n",
    "plt. xlim(2.0e+08,2.5e+08)\n",
    "plt.ylim(0,60)\n",
    "\n",
    "plt.savefig('../mars_data_raw/Duration of eclipse vs distance from mars to sun group1.png')"
   ]
  },
  {
   "cell_type": "code",
   "execution_count": 42,
   "metadata": {},
   "outputs": [
    {
     "data": {
      "image/png": "[encoded data removed]",
      "text/plain": [
       "<Figure size 432x288 with 1 Axes>"
      ]
     },
     "metadata": {
      "needs_background": "light"
     },
     "output_type": "display_data"
    }
   ],
   "source": [
    "x = []\n",
    "for i in range(len(final_df)):\n",
    "    if final_df['dist_shift'][i] == \"Distance_shift-2\" :\n",
    "        x.append(final_df['duration'][i])\n",
    "        \n",
    "y = []\n",
    "for i in range(len(final_df)):\n",
    "    if final_df['dist_shift'][i] == \"Distance_shift-2\" :\n",
    "        y.append(final_df['sunmars_km'][i])\n",
    "        \n",
    "\n",
    "        \n",
    "plt.scatter(y,x)\n",
    "plt.xlabel('distance from mars to sun (km)')\n",
    "plt.ylabel('duration of eclipse (min)')\n",
    "plt.title ('Duration of eclipse vs distance from mars to sun group2')\n",
    "plt.grid(True)\n",
    "plt. xlim(2.0e+08,2.5e+08)\n",
    "plt.ylim(0,60)\n",
    "\n",
    "plt.savefig('../mars_data_raw/Duration of eclipse vs distance from mars to sun group2.png')"
   ]
  },
  {
   "cell_type": "code",
   "execution_count": 43,
   "metadata": {},
   "outputs": [
    {
     "data": {
      "image/png": "[encoded data removed]",
      "text/plain": [
       "<Figure size 432x288 with 1 Axes>"
      ]
     },
     "metadata": {
      "needs_background": "light"
     },
     "output_type": "display_data"
    }
   ],
   "source": [
    "x = []\n",
    "for i in range(len(final_df)):\n",
    "    if final_df['dist_shift'][i] == \"Distance_shift-3\" :\n",
    "        x.append(final_df['duration'][i])\n",
    "        \n",
    "y = []\n",
    "for i in range(len(final_df)):\n",
    "    if final_df['dist_shift'][i] == \"Distance_shift-3\" :\n",
    "        y.append(final_df['sunmars_km'][i])\n",
    "        \n",
    "\n",
    "        \n",
    "plt.scatter(y,x)\n",
    "plt.xlabel('distance from mars to sun (km)')\n",
    "plt.ylabel('duration of eclipse (min)')\n",
    "plt.title ('Duration of eclipse vs distance from mars to sun group3')\n",
    "plt.grid(True)\n",
    "plt. xlim(2.0e+08,2.5e+08)\n",
    "plt.ylim(0,60)\n",
    "\n",
    "plt.savefig('../mars_data_raw/Duration of eclipse vs distance from mars to sun group3.png')"
   ]
  },
  {
   "cell_type": "code",
   "execution_count": 44,
   "metadata": {},
   "outputs": [
    {
     "data": {
      "image/png": "[encoded data removed]",
      "text/plain": [
       "<Figure size 432x288 with 1 Axes>"
      ]
     },
     "metadata": {
      "needs_background": "light"
     },
     "output_type": "display_data"
    }
   ],
   "source": [
    "x = []\n",
    "for i in range(len(final_df)):\n",
    "    if final_df['dist_shift'][i] == \"Distance_shift-4\" :\n",
    "        x.append(final_df['duration'][i])\n",
    "        \n",
    "y = []\n",
    "for i in range(len(final_df)):\n",
    "    if final_df['dist_shift'][i] == \"Distance_shift-4\" :\n",
    "        y.append(final_df['sunmars_km'][i])\n",
    "        \n",
    "\n",
    "        \n",
    "plt.scatter(y,x)\n",
    "plt.xlabel('distance from mars to sun (km)')\n",
    "plt.ylabel('duration of eclipse (min)')\n",
    "plt.title ('Duration of eclipse vs distance from mars to sun group4')\n",
    "plt.grid(True)\n",
    "plt. xlim(2.0e+08,2.5e+08)\n",
    "plt.ylim(0,60)\n",
    "\n",
    "plt.savefig('../mars_data_raw/Duration of eclipse vs distance from mars to sun group4.png')"
   ]
  },
  {
   "cell_type": "code",
   "execution_count": 45,
   "metadata": {},
   "outputs": [
    {
     "data": {
      "image/png": "[encoded data removed]",
      "text/plain": [
       "<Figure size 432x288 with 1 Axes>"
      ]
     },
     "metadata": {
      "needs_background": "light"
     },
     "output_type": "display_data"
    }
   ],
   "source": [
    "x = []\n",
    "for i in range(len(final_df)):\n",
    "    if final_df['dist_shift'][i] == \"Distance_shift-5\" :\n",
    "        x.append(final_df['duration'][i])\n",
    "        \n",
    "y = []\n",
    "for i in range(len(final_df)):\n",
    "    if final_df['dist_shift'][i] == \"Distance_shift-5\" :\n",
    "        y.append(final_df['sunmars_km'][i])\n",
    "        \n",
    "\n",
    "        \n",
    "plt.scatter(y,x)\n",
    "plt.xlabel('distance from mars to sun (km)')\n",
    "plt.ylabel('duration of eclipse (min)')\n",
    "plt.title ('Duration of eclipse vs distance from mars to sun group5')\n",
    "plt.grid(True)\n",
    "plt. xlim(2.0e+08,2.5e+08)\n",
    "plt.ylim(0,60)\n",
    "\n",
    "plt.savefig('../mars_data_raw/Duration of eclipse vs distance from mars to sun group5.png')"
   ]
  },
  {
   "cell_type": "code",
   "execution_count": 46,
   "metadata": {},
   "outputs": [
    {
     "data": {
      "image/png": "[encoded data removed]",
      "text/plain": [
       "<Figure size 432x288 with 1 Axes>"
      ]
     },
     "metadata": {
      "needs_background": "light"
     },
     "output_type": "display_data"
    }
   ],
   "source": [
    "x = []\n",
    "for i in range(len(final_df)):\n",
    "    if final_df['dist_shift'][i] == \"Distance_shift-6\" :\n",
    "        x.append(final_df['duration'][i])\n",
    "        \n",
    "y = []\n",
    "for i in range(len(final_df)):\n",
    "    if final_df['dist_shift'][i] == \"Distance_shift-6\" :\n",
    "        y.append(final_df['sunmars_km'][i])\n",
    "        \n",
    "\n",
    "        \n",
    "plt.scatter(y,x)\n",
    "plt.xlabel('distance from mars to sun (km)')\n",
    "plt.ylabel('duration of eclipse (min)')\n",
    "plt.title ('Duration of eclipse vs distance from mars to sun group6')\n",
    "plt.grid(True)\n",
    "plt. xlim(2.0e+08,2.5e+08)\n",
    "plt.ylim(0,60)\n",
    "\n",
    "plt.savefig('../mars_data_raw/Duration of eclipse vs distance from mars to sun group6.png')"
   ]
  },
  {
   "cell_type": "code",
   "execution_count": 47,
   "metadata": {},
   "outputs": [
    {
     "data": {
      "image/png": "[encoded data removed]",
      "text/plain": [
       "<Figure size 432x288 with 1 Axes>"
      ]
     },
     "metadata": {
      "needs_background": "light"
     },
     "output_type": "display_data"
    }
   ],
   "source": [
    "x = []\n",
    "for i in range(len(final_df)):\n",
    "    if final_df['dist_shift'][i] == \"Distance_shift-7\" :\n",
    "        x.append(final_df['duration'][i])\n",
    "        \n",
    "y = []\n",
    "for i in range(len(final_df)):\n",
    "    if final_df['dist_shift'][i] == \"Distance_shift-7\" :\n",
    "        y.append(final_df['sunmars_km'][i])\n",
    "        \n",
    "\n",
    "        \n",
    "plt.scatter(y,x)\n",
    "plt.xlabel('distance from mars to sun (km)')\n",
    "plt.ylabel('duration of eclipse (min)')\n",
    "plt.title ('Duration of eclipse vs distance from mars to sun group7')\n",
    "plt.grid(True)\n",
    "plt. xlim(2.0e+08,2.5e+08)\n",
    "plt.ylim(0,60)\n",
    "\n",
    "plt.savefig('../mars_data_raw/Duration of eclipse vs distance from mars to sun group7.png')"
   ]
  },
  {
   "cell_type": "code",
   "execution_count": 48,
   "metadata": {},
   "outputs": [
    {
     "data": {
      "image/png": "[encoded data removed]",
      "text/plain": [
       "<Figure size 432x288 with 1 Axes>"
      ]
     },
     "metadata": {
      "needs_background": "light"
     },
     "output_type": "display_data"
    }
   ],
   "source": [
    "x = []\n",
    "for i in range(len(final_df)):\n",
    "    if final_df['dist_shift'][i] == \"Distance_shift-8\" :\n",
    "        x.append(final_df['duration'][i])\n",
    "        \n",
    "y = []\n",
    "for i in range(len(final_df)):\n",
    "    if final_df['dist_shift'][i] == \"Distance_shift-8\" :\n",
    "        y.append(final_df['sunmars_km'][i])\n",
    "        \n",
    "\n",
    "        \n",
    "plt.scatter(y,x)\n",
    "plt.xlabel('distance from mars to sun (km)')\n",
    "plt.ylabel('duration of eclipse (min)')\n",
    "plt.title ('Duration of eclipse vs distance from mars to sun group8')\n",
    "plt.grid(True)\n",
    "plt. xlim(2.0e+08,2.5e+08)\n",
    "plt.ylim(0,60)\n",
    "\n",
    "plt.savefig('../mars_data_raw/Duration of eclipse vs distance from mars to sun group8.png')"
   ]
  },
  {
   "cell_type": "code",
   "execution_count": 49,
   "metadata": {},
   "outputs": [
    {
     "data": {
      "image/png": "[encoded data removed]",
      "text/plain": [
       "<Figure size 432x288 with 1 Axes>"
      ]
     },
     "metadata": {
      "needs_background": "light"
     },
     "output_type": "display_data"
    }
   ],
   "source": [
    "x = []\n",
    "for i in range(len(final_df)):\n",
    "    if final_df['dist_shift'][i] == \"Distance_shift-9\" :\n",
    "        x.append(final_df['duration'][i])\n",
    "        \n",
    "y = []\n",
    "for i in range(len(final_df)):\n",
    "    if final_df['dist_shift'][i] == \"Distance_shift-9\" :\n",
    "        y.append(final_df['sunmars_km'][i])\n",
    "        \n",
    "\n",
    "        \n",
    "plt.scatter(y,x)\n",
    "plt.xlabel('distance from mars to sun (km)')\n",
    "plt.ylabel('duration of eclipse (min)')\n",
    "plt.title ('Duration of eclipse vs distance from mars to sun group9')\n",
    "plt.grid(True)\n",
    "plt. xlim(2.0e+08,2.5e+08)\n",
    "plt.ylim(0,60)\n",
    "\n",
    "plt.savefig('../mars_data_raw/Duration of eclipse vs distance from mars to sun group9.png')"
   ]
  },
  {
   "cell_type": "code",
   "execution_count": 50,
   "metadata": {},
   "outputs": [
    {
     "data": {
      "image/png": "[encoded data removed]",
      "text/plain": [
       "<Figure size 432x288 with 1 Axes>"
      ]
     },
     "metadata": {
      "needs_background": "light"
     },
     "output_type": "display_data"
    }
   ],
   "source": [
    "x = []\n",
    "for i in range(len(final_df)):\n",
    "    if final_df['year'][i] == 1:\n",
    "        x.append(final_df['duration'][i])\n",
    "        \n",
    "y = []\n",
    "for i in range(len(final_df)):\n",
    "    if final_df['year'][i] == 1 :\n",
    "        y.append(final_df['sunmars_km'][i])\n",
    "        \n",
    "\n",
    "        \n",
    "plt.scatter(y,x,)\n",
    "\n",
    "plt.xlabel('distance from mars to sun (km)')\n",
    "plt.ylabel('duration of eclipse (min)')\n",
    "plt.title ('Duration of eclipse vs distance from mars to sun in year 1')\n",
    "plt.grid(True)\n",
    "plt. xlim(2.0e+08,2.5e+08)\n",
    "plt.ylim(0,60)\n",
    "\n",
    "plt.savefig('../mars_data_raw/Duration of eclipse vs distance from mars to sun in year 1.png')"
   ]
  },
  {
   "cell_type": "code",
   "execution_count": 51,
   "metadata": {},
   "outputs": [
    {
     "data": {
      "image/png": "[encoded data removed]",
      "text/plain": [
       "<Figure size 432x288 with 1 Axes>"
      ]
     },
     "metadata": {
      "needs_background": "light"
     },
     "output_type": "display_data"
    }
   ],
   "source": [
    "x = []\n",
    "for i in range(len(final_df)):\n",
    "    if final_df['year'][i] == 2:\n",
    "        x.append(final_df['duration'][i])\n",
    "        \n",
    "y = []\n",
    "for i in range(len(final_df)):\n",
    "    if final_df['year'][i] == 2 :\n",
    "        y.append(final_df['sunmars_km'][i])\n",
    "        \n",
    "\n",
    "        \n",
    "plt.scatter(y,x,)\n",
    "\n",
    "plt.xlabel('distance from mars to sun (km)')\n",
    "plt.ylabel('duration of eclipse (min)')\n",
    "plt.title ('Duration of eclipse vs distance from mars to sun in year 2')\n",
    "plt.grid(True)\n",
    "plt. xlim(2.0e+08,2.5e+08)\n",
    "plt.ylim(0,60)\n",
    "\n",
    "plt.savefig('../mars_data_raw/Duration of eclipse vs distance from mars to sun in year 2.png')"
   ]
  },
  {
   "cell_type": "code",
   "execution_count": 52,
   "metadata": {},
   "outputs": [
    {
     "data": {
      "image/png": "[encoded data removed]",
      "text/plain": [
       "<Figure size 432x288 with 1 Axes>"
      ]
     },
     "metadata": {
      "needs_background": "light"
     },
     "output_type": "display_data"
    }
   ],
   "source": [
    "x = []\n",
    "for i in range(len(final_df)):\n",
    "    if final_df['year'][i] == 3:\n",
    "        x.append(final_df['duration'][i])\n",
    "        \n",
    "y = []\n",
    "for i in range(len(final_df)):\n",
    "    if final_df['year'][i] == 3 :\n",
    "        y.append(final_df['sunmars_km'][i])\n",
    "        \n",
    "\n",
    "        \n",
    "plt.scatter(y,x,)\n",
    "\n",
    "plt.xlabel('distance from mars to sun (km)')\n",
    "plt.ylabel('duration of eclipse (min)')\n",
    "plt.title ('Duration of eclipse vs distance from mars to sun in year 3')\n",
    "plt.grid(True)\n",
    "plt. xlim(2.0e+08,2.5e+08)\n",
    "plt.ylim(0,60)\n",
    "\n",
    "\n",
    "plt.savefig('../mars_data_raw/Duration of eclipse vs distance from mars to sun in year 3.png')"
   ]
  },
  {
   "cell_type": "code",
   "execution_count": 53,
   "metadata": {},
   "outputs": [
    {
     "data": {
      "image/png": "[encoded data removed]",
      "text/plain": [
       "<Figure size 432x288 with 1 Axes>"
      ]
     },
     "metadata": {
      "needs_background": "light"
     },
     "output_type": "display_data"
    }
   ],
   "source": [
    "x = []\n",
    "for i in range(len(final_df)):\n",
    "    if final_df['year'][i] == 4:\n",
    "        x.append(final_df['duration'][i])\n",
    "        \n",
    "y = []\n",
    "for i in range(len(final_df)):\n",
    "    if final_df['year'][i] == 4 :\n",
    "        y.append(final_df['sunmars_km'][i])\n",
    "        \n",
    "\n",
    "        \n",
    "plt.scatter(y,x,)\n",
    "\n",
    "plt.xlabel('distance from mars to sun (km)')\n",
    "plt.ylabel('duration of eclipse (min)')\n",
    "plt.title ('Duration of eclipse vs distance from mars to sun in year 4')\n",
    "plt.grid(True)\n",
    "plt. xlim(2.0e+08,2.5e+08)\n",
    "plt.ylim(0,60)\n",
    "plt.savefig('../mars_data_raw/Duration of eclipse vs distance from mars to sun in year 4.png')"
   ]
  },
  {
   "cell_type": "code",
   "execution_count": 54,
   "metadata": {},
   "outputs": [
    {
     "data": {
      "image/png": "[encoded data removed]",
      "text/plain": [
       "<Figure size 432x288 with 1 Axes>"
      ]
     },
     "metadata": {
      "needs_background": "light"
     },
     "output_type": "display_data"
    }
   ],
   "source": [
    "x = []\n",
    "for i in range(len(final_df)):\n",
    "    if final_df['year'][i] == 1 and final_df['dist_shift'][i]==\"Distance_shift-1\":\n",
    "        x.append(final_df['duration'][i])\n",
    "        \n",
    "y = []\n",
    "for i in range(len(final_df)):\n",
    "    if final_df['year'][i] == 1 and final_df['dist_shift'][i]==\"Distance_shift-1\" :\n",
    "        y.append(final_df['sunmars_km'][i])\n",
    "        \n",
    "\n",
    "        \n",
    "plt.scatter(y,x,)\n",
    "\n",
    "plt.xlabel('distance from mars to sun(km)')\n",
    "plt.ylabel('duration of eclipse (min)')\n",
    "plt.title ('Duration of eclipse vs distance from mars to sun in year 1(group 1)')\n",
    "plt.grid(True)\n",
    "plt. xlim(2.0e+08,2.5e+08)\n",
    "plt.ylim(0,60)\n",
    "plt.savefig('../mars_data_raw/Duration of eclipse vs distance from mars to sun in year 1_group1.png')"
   ]
  },
  {
   "cell_type": "code",
   "execution_count": 55,
   "metadata": {},
   "outputs": [
    {
     "data": {
      "image/png": "[encoded data removed]",
      "text/plain": [
       "<Figure size 432x288 with 1 Axes>"
      ]
     },
     "metadata": {
      "needs_background": "light"
     },
     "output_type": "display_data"
    }
   ],
   "source": [
    "x = []\n",
    "for i in range(len(final_df)):\n",
    "    if final_df['year'][i] == 1 and final_df['dist_shift'][i]==\"Distance_shift-2\":\n",
    "        x.append(final_df['duration'][i])\n",
    "        \n",
    "y = []\n",
    "for i in range(len(final_df)):\n",
    "    if final_df['year'][i] == 1 and final_df['dist_shift'][i]==\"Distance_shift-2\" :\n",
    "        y.append(final_df['sunmars_km'][i])\n",
    "        \n",
    "\n",
    "        \n",
    "plt.scatter(y,x,)\n",
    "\n",
    "plt.xlabel('distance from mars to sun(km)')\n",
    "plt.ylabel('duration of eclipse (min)')\n",
    "plt.title ('Duration of eclipse vs distance from mars to sun in year 1(group 2)')\n",
    "plt.grid(True)\n",
    "plt. xlim(2.0e+08,2.5e+08)\n",
    "plt.ylim(0,60)\n",
    "plt.savefig('../mars_data_raw/Duration of eclipse vs distance from mars to sun in year 1_group2.png')"
   ]
  },
  {
   "cell_type": "code",
   "execution_count": 56,
   "metadata": {},
   "outputs": [
    {
     "data": {
      "image/png": "[encoded data removed]",
      "text/plain": [
       "<Figure size 432x288 with 1 Axes>"
      ]
     },
     "metadata": {
      "needs_background": "light"
     },
     "output_type": "display_data"
    }
   ],
   "source": [
    "x = []\n",
    "for i in range(len(final_df)):\n",
    "    if final_df['year'][i] == 1 and final_df['dist_shift'][i]==\"Distance_shift-3\":\n",
    "        x.append(final_df['duration'][i])\n",
    "        \n",
    "y = []\n",
    "for i in range(len(final_df)):\n",
    "    if final_df['year'][i] == 1 and final_df['dist_shift'][i]==\"Distance_shift-3\" :\n",
    "        y.append(final_df['sunmars_km'][i])\n",
    "        \n",
    "\n",
    "        \n",
    "plt.scatter(y,x,)\n",
    "\n",
    "plt.xlabel('distance from mars to sun(km)')\n",
    "plt.ylabel('duration of eclipse (min)')\n",
    "plt.title ('Duration of eclipse vs distance from mars to sun in year 1(group 3)')\n",
    "plt.grid(True)\n",
    "plt. xlim(2.0e+08,2.5e+08)\n",
    "plt.ylim(0,60)\n",
    "plt.savefig('../mars_data_raw/Duration of eclipse vs distance from mars to sun in year 1_group3.png')"
   ]
  },
  {
   "cell_type": "code",
   "execution_count": 57,
   "metadata": {},
   "outputs": [
    {
     "data": {
      "image/png": "[encoded data removed]",
      "text/plain": [
       "<Figure size 432x288 with 1 Axes>"
      ]
     },
     "metadata": {
      "needs_background": "light"
     },
     "output_type": "display_data"
    }
   ],
   "source": [
    "x = []\n",
    "for i in range(len(final_df)):\n",
    "    if final_df['year'][i] == 2 and final_df['dist_shift'][i]==\"Distance_shift-4\":\n",
    "        x.append(final_df['duration'][i])\n",
    "        \n",
    "y = []\n",
    "for i in range(len(final_df)):\n",
    "    if final_df['year'][i] == 2 and final_df['dist_shift'][i]==\"Distance_shift-4\" :\n",
    "        y.append(final_df['sunmars_km'][i])\n",
    "        \n",
    "\n",
    "        \n",
    "plt.scatter(y,x,)\n",
    "\n",
    "plt.xlabel('distance from mars to sun(km)')\n",
    "plt.ylabel('duration of eclipse (min)')\n",
    "plt.title ('Duration of eclipse vs distance from mars to sun in year 2(group 4)')\n",
    "plt.grid(True)\n",
    "plt. xlim(2.0e+08,2.5e+08)\n",
    "plt.ylim(0,60)\n",
    "plt.savefig('../mars_data_raw/Duration of eclipse vs distance from mars to sun in year 2_group1.png')"
   ]
  },
  {
   "cell_type": "code",
   "execution_count": 58,
   "metadata": {},
   "outputs": [
    {
     "data": {
      "image/png": "[encoded data removed]",
      "text/plain": [
       "<Figure size 432x288 with 1 Axes>"
      ]
     },
     "metadata": {
      "needs_background": "light"
     },
     "output_type": "display_data"
    }
   ],
   "source": [
    "x = []\n",
    "for i in range(len(final_df)):\n",
    "    if final_df['year'][i] == 2 and final_df['dist_shift'][i]==\"Distance_shift-5\":\n",
    "        x.append(final_df['duration'][i])\n",
    "        \n",
    "y = []\n",
    "for i in range(len(final_df)):\n",
    "    if final_df['year'][i] == 2 and final_df['dist_shift'][i]==\"Distance_shift-5\" :\n",
    "        y.append(final_df['sunmars_km'][i])\n",
    "        \n",
    "\n",
    "        \n",
    "plt.scatter(y,x,)\n",
    "\n",
    "plt.xlabel('distance from mars to sun(km)')\n",
    "plt.ylabel('duration of eclipse (min)')\n",
    "plt.title ('Duration of eclipse vs distance from mars to sun in year 2(group 5)')\n",
    "plt.grid(True)\n",
    "plt. xlim(2.0e+08,2.5e+08)\n",
    "plt.ylim(0,60)\n",
    "plt.savefig('../mars_data_raw/Duration of eclipse vs distance from mars to sun in year 2_group2.png')"
   ]
  },
  {
   "cell_type": "code",
   "execution_count": 59,
   "metadata": {},
   "outputs": [
    {
     "data": {
      "image/png": "[encoded data removed]",
      "text/plain": [
       "<Figure size 432x288 with 1 Axes>"
      ]
     },
     "metadata": {
      "needs_background": "light"
     },
     "output_type": "display_data"
    }
   ],
   "source": [
    "x = []\n",
    "for i in range(len(final_df)):\n",
    "    if final_df['year'][i] == 3 and final_df['dist_shift'][i]==\"Distance_shift-5\":\n",
    "        x.append(final_df['duration'][i])\n",
    "        \n",
    "y = []\n",
    "for i in range(len(final_df)):\n",
    "    if final_df['year'][i] == 3 and final_df['dist_shift'][i]==\"Distance_shift-5\" :\n",
    "        y.append(final_df['sunmars_km'][i])\n",
    "        \n",
    "\n",
    "        \n",
    "plt.scatter(y,x,)\n",
    "\n",
    "plt.xlabel('distance from mars to sun(km)')\n",
    "plt.ylabel('duration of eclipse (min)')\n",
    "plt.title ('Duration of eclipse vs distance from mars to sun in year 3(group 1)')\n",
    "plt.grid(True)\n",
    "plt. xlim(2.0e+08,2.5e+08)\n",
    "plt.ylim(0,60)\n",
    "plt.savefig('../mars_data_raw/Duration of eclipse vs distance from mars to sun in year 3_group1.png')"
   ]
  },
  {
   "cell_type": "code",
   "execution_count": 60,
   "metadata": {},
   "outputs": [
    {
     "data": {
      "image/png": "[encoded data removed]",
      "text/plain": [
       "<Figure size 432x288 with 1 Axes>"
      ]
     },
     "metadata": {
      "needs_background": "light"
     },
     "output_type": "display_data"
    }
   ],
   "source": [
    "x = []\n",
    "for i in range(len(final_df)):\n",
    "    if final_df['year'][i] == 3 and final_df['dist_shift'][i]==\"Distance_shift-6\":\n",
    "        x.append(final_df['duration'][i])\n",
    "        \n",
    "y = []\n",
    "for i in range(len(final_df)):\n",
    "    if final_df['year'][i] == 3 and final_df['dist_shift'][i]==\"Distance_shift-6\" :\n",
    "        y.append(final_df['sunmars_km'][i])\n",
    "        \n",
    "\n",
    "        \n",
    "plt.scatter(y,x,)\n",
    "\n",
    "plt.xlabel('distance from mars to sun(km)')\n",
    "plt.ylabel('duration of eclipse (min)')\n",
    "plt.title ('Duration of eclipse vs distance from mars to sun in year 3(group 2)')\n",
    "plt.grid(True)\n",
    "plt. xlim(2.0e+08,2.5e+08)\n",
    "plt.ylim(0,60)\n",
    "plt.savefig('../mars_data_raw/Duration of eclipse vs distance from mars to sun in year 3_group2.png')"
   ]
  },
  {
   "cell_type": "code",
   "execution_count": 61,
   "metadata": {},
   "outputs": [
    {
     "data": {
      "image/png": "[encoded data removed]",
      "text/plain": [
       "<Figure size 432x288 with 1 Axes>"
      ]
     },
     "metadata": {
      "needs_background": "light"
     },
     "output_type": "display_data"
    }
   ],
   "source": [
    "x = []\n",
    "for i in range(len(final_df)):\n",
    "    if final_df['year'][i] == 3 and final_df['dist_shift'][i]==\"Distance_shift-7\":\n",
    "        x.append(final_df['duration'][i])\n",
    "        \n",
    "y = []\n",
    "for i in range(len(final_df)):\n",
    "    if final_df['year'][i] == 3 and final_df['dist_shift'][i]==\"Distance_shift-7\" :\n",
    "        y.append(final_df['sunmars_km'][i])\n",
    "        \n",
    "\n",
    "        \n",
    "plt.scatter(y,x,)\n",
    "\n",
    "plt.xlabel('distance from mars to sun(km)')\n",
    "plt.ylabel('duration of eclipse (min)')\n",
    "plt.title ('Duration of eclipse vs distance from mars to sun in year 3(group 3)')\n",
    "plt.grid(True)\n",
    "plt. xlim(2.0e+08,2.5e+08)\n",
    "plt.ylim(0,60)\n",
    "plt.savefig('../mars_data_raw/Duration of eclipse vs distance from mars to sun in year 3_group3.png')"
   ]
  },
  {
   "cell_type": "code",
   "execution_count": 62,
   "metadata": {},
   "outputs": [
    {
     "data": {
      "image/png": "[encoded data removed]",
      "text/plain": [
       "<Figure size 432x288 with 1 Axes>"
      ]
     },
     "metadata": {
      "needs_background": "light"
     },
     "output_type": "display_data"
    }
   ],
   "source": [
    "x = []\n",
    "for i in range(len(final_df)):\n",
    "    if final_df['year'][i] == 4 and final_df['dist_shift'][i]==\"Distance_shift-7\":\n",
    "        x.append(final_df['duration'][i])\n",
    "        \n",
    "y = []\n",
    "for i in range(len(final_df)):\n",
    "    if final_df['year'][i] == 4 and final_df['dist_shift'][i]==\"Distance_shift-7\" :\n",
    "        y.append(final_df['sunmars_km'][i])\n",
    "        \n",
    "\n",
    "        \n",
    "plt.scatter(y,x,)\n",
    "\n",
    "plt.xlabel('distance from mars to sun(km)')\n",
    "plt.ylabel('duration of eclipse (min)')\n",
    "plt.title ('Duration of eclipse vs distance from mars to sun in year 4(group 1)')\n",
    "plt.grid(True)\n",
    "plt. xlim(2.0e+08,2.5e+08)\n",
    "plt.ylim(0,60)\n",
    "plt.savefig('../mars_data_raw/Duration of eclipse vs distance from mars to sun in year 4_group1.png')"
   ]
  },
  {
   "cell_type": "code",
   "execution_count": 63,
   "metadata": {},
   "outputs": [
    {
     "data": {
      "image/png": "[encoded data removed]",
      "text/plain": [
       "<Figure size 432x288 with 1 Axes>"
      ]
     },
     "metadata": {
      "needs_background": "light"
     },
     "output_type": "display_data"
    }
   ],
   "source": [
    "x = []\n",
    "for i in range(len(final_df)):\n",
    "    if final_df['year'][i] == 4 and final_df['dist_shift'][i]==\"Distance_shift-8\":\n",
    "        x.append(final_df['duration'][i])\n",
    "        \n",
    "y = []\n",
    "for i in range(len(final_df)):\n",
    "    if final_df['year'][i] == 4 and final_df['dist_shift'][i]==\"Distance_shift-8\" :\n",
    "        y.append(final_df['sunmars_km'][i])\n",
    "        \n",
    "\n",
    "        \n",
    "plt.scatter(y,x,)\n",
    "\n",
    "plt.xlabel('distance from mars to sun(km)')\n",
    "plt.ylabel('duration of eclipse (min)')\n",
    "plt.title ('Duration of eclipse vs distance from mars to sun in year 4(group 2)')\n",
    "plt.grid(True)\n",
    "plt. xlim(2.0e+08,2.5e+08)\n",
    "plt.ylim(0,60)\n",
    "plt.savefig('../mars_data_raw/Duration of eclipse vs distance from mars to sun in year 4_group2.png')"
   ]
  },
  {
   "cell_type": "code",
   "execution_count": 64,
   "metadata": {},
   "outputs": [
    {
     "data": {
      "image/png": "[encoded data removed]",
      "text/plain": [
       "<Figure size 432x288 with 1 Axes>"
      ]
     },
     "metadata": {
      "needs_background": "light"
     },
     "output_type": "display_data"
    }
   ],
   "source": [
    "x = []\n",
    "for i in range(len(final_df)):\n",
    "    if final_df['year'][i] == 4 and final_df['dist_shift'][i]==\"Distance_shift-9\":\n",
    "        x.append(final_df['duration'][i])\n",
    "        \n",
    "y = []\n",
    "for i in range(len(final_df)):\n",
    "    if final_df['year'][i] == 4 and final_df['dist_shift'][i]==\"Distance_shift-9\" :\n",
    "        y.append(final_df['sunmars_km'][i])\n",
    "        \n",
    "\n",
    "        \n",
    "plt.scatter(y,x,)\n",
    "\n",
    "plt.xlabel('distance from mars to sun(km)')\n",
    "plt.ylabel('duration of eclipse (min)')\n",
    "plt.title ('Duration of eclipse vs distance from mars to sun in year 4(group 3)')\n",
    "plt.grid(True)\n",
    "plt. xlim(2.0e+08,2.5e+08)\n",
    "plt.ylim(0,60)\n",
    "plt.savefig('../mars_data_raw/Duration of eclipse vs distance from mars to sun in year 4_group3.png')"
   ]
  },
  {
   "cell_type": "code",
   "execution_count": 65,
   "metadata": {},
   "outputs": [
    {
     "name": "stdout",
     "output_type": "stream",
     "text": [
      "39.525\n"
     ]
    }
   ],
   "source": [
    "x = []\n",
    "for i in range(len(final_df)):\n",
    "    if final_df['year'][i] == 1:\n",
    "        x.append(final_df['duration'][i])\n",
    "\n",
    "print (np.percentile(x,50))\n",
    "# print(x)"
   ]
  },
  {
   "cell_type": "code",
   "execution_count": 66,
   "metadata": {},
   "outputs": [
    {
     "data": {
      "text/html": [
       "<div>\n",
       "<style scoped>\n",
       "    .dataframe tbody tr th:only-of-type {\n",
       "        vertical-align: middle;\n",
       "    }\n",
       "\n",
       "    .dataframe tbody tr th {\n",
       "        vertical-align: top;\n",
       "    }\n",
       "\n",
       "    .dataframe thead th {\n",
       "        text-align: right;\n",
       "    }\n",
       "</style>\n",
       "<table border=\"1\" class=\"dataframe\">\n",
       "  <thead>\n",
       "    <tr style=\"text-align: right;\">\n",
       "      <th></th>\n",
       "      <th>eclipse_day</th>\n",
       "      <th>year</th>\n",
       "      <th>duration</th>\n",
       "      <th>sunmars_km</th>\n",
       "      <th>earthmars_km</th>\n",
       "      <th>sunmarsearthangle_deg</th>\n",
       "      <th>solarconstantmars</th>\n",
       "      <th>dist_shift</th>\n",
       "      <th>day</th>\n",
       "    </tr>\n",
       "  </thead>\n",
       "  <tbody>\n",
       "    <tr>\n",
       "      <td>0</td>\n",
       "      <td>1</td>\n",
       "      <td>1</td>\n",
       "      <td>4</td>\n",
       "      <td>4</td>\n",
       "      <td>4</td>\n",
       "      <td>4</td>\n",
       "      <td>4</td>\n",
       "      <td>4</td>\n",
       "      <td>4</td>\n",
       "    </tr>\n",
       "    <tr>\n",
       "      <td>1</td>\n",
       "      <td>2</td>\n",
       "      <td>1</td>\n",
       "      <td>2</td>\n",
       "      <td>2</td>\n",
       "      <td>2</td>\n",
       "      <td>2</td>\n",
       "      <td>2</td>\n",
       "      <td>2</td>\n",
       "      <td>2</td>\n",
       "    </tr>\n",
       "    <tr>\n",
       "      <td>2</td>\n",
       "      <td>169</td>\n",
       "      <td>1</td>\n",
       "      <td>2</td>\n",
       "      <td>2</td>\n",
       "      <td>2</td>\n",
       "      <td>2</td>\n",
       "      <td>2</td>\n",
       "      <td>2</td>\n",
       "      <td>2</td>\n",
       "    </tr>\n",
       "  </tbody>\n",
       "</table>\n",
       "</div>"
      ],
      "text/plain": [
       "   eclipse_day  year  duration  sunmars_km  earthmars_km  \\\n",
       "0            1     1         4           4             4   \n",
       "1            2     1         2           2             2   \n",
       "2          169     1         2           2             2   \n",
       "\n",
       "   sunmarsearthangle_deg  solarconstantmars  dist_shift  day  \n",
       "0                      4                  4           4    4  \n",
       "1                      2                  2           2    2  \n",
       "2                      2                  2           2    2  "
      ]
     },
     "execution_count": 66,
     "metadata": {},
     "output_type": "execute_result"
    }
   ],
   "source": [
    "df1=final_df.groupby(['eclipse_day','year']).count()\n",
    "df2 =df1.reset_index()\n",
    "df2.head(3)"
   ]
  },
  {
   "cell_type": "code",
   "execution_count": 67,
   "metadata": {},
   "outputs": [
    {
     "data": {
      "text/plain": [
       "[<matplotlib.lines.Line2D at 0x13e02ac2f98>]"
      ]
     },
     "execution_count": 67,
     "metadata": {},
     "output_type": "execute_result"
    },
    {
     "data": {
      "image/png": "[encoded data removed]",
      "text/plain": [
       "<Figure size 432x288 with 1 Axes>"
      ]
     },
     "metadata": {
      "needs_background": "light"
     },
     "output_type": "display_data"
    }
   ],
   "source": [
    "x = []\n",
    "y = []\n",
    "for i in range(len(df2)):\n",
    "    if df2['year'][i]==1:\n",
    "        x.append(df2['duration'][i])\n",
    "        \n",
    "for i in range(len(df2)):\n",
    "    if df2['year'][i]==1:\n",
    "        y.append(df2['eclipse_day'][i])\n",
    "        \n",
    "\n",
    "        \n",
    "plt.plot(y,x)"
   ]
  },
  {
   "cell_type": "code",
   "execution_count": 68,
   "metadata": {},
   "outputs": [
    {
     "data": {
      "text/plain": [
       "(2748, 4)"
      ]
     },
     "execution_count": 68,
     "metadata": {},
     "output_type": "execute_result"
    }
   ],
   "source": [
    "df1.index[1467]"
   ]
  },
  {
   "cell_type": "code",
   "execution_count": 69,
   "metadata": {},
   "outputs": [
    {
     "data": {
      "text/plain": [
       "[<matplotlib.lines.Line2D at 0x13e034a9588>]"
      ]
     },
     "execution_count": 69,
     "metadata": {},
     "output_type": "execute_result"
    },
    {
     "data": {
      "image/png": "[encoded data removed]",
      "text/plain": [
       "<Figure size 432x288 with 1 Axes>"
      ]
     },
     "metadata": {
      "needs_background": "light"
     },
     "output_type": "display_data"
    }
   ],
   "source": [
    "x = []\n",
    "for i in range(len(final_df)):\n",
    "    if final_df['year'][i] == 1:\n",
    "        x.append(final_df['duration'][i])\n",
    "        \n",
    "y = []\n",
    "for i in range(len(final_df)):\n",
    "    if final_df['year'][i] == 1 :\n",
    "        y.append(final_df['eclipse_day'][i])\n",
    "        \n",
    "\n",
    "        \n",
    "plt.plot(y,x,)"
   ]
  },
  {
   "cell_type": "code",
   "execution_count": 70,
   "metadata": {},
   "outputs": [
    {
     "data": {
      "text/html": [
       "<div>\n",
       "<style scoped>\n",
       "    .dataframe tbody tr th:only-of-type {\n",
       "        vertical-align: middle;\n",
       "    }\n",
       "\n",
       "    .dataframe tbody tr th {\n",
       "        vertical-align: top;\n",
       "    }\n",
       "\n",
       "    .dataframe thead th {\n",
       "        text-align: right;\n",
       "    }\n",
       "</style>\n",
       "<table border=\"1\" class=\"dataframe\">\n",
       "  <thead>\n",
       "    <tr style=\"text-align: right;\">\n",
       "      <th></th>\n",
       "      <th>year</th>\n",
       "      <th>eclipse_day</th>\n",
       "      <th>duration</th>\n",
       "      <th>sunmars_km</th>\n",
       "      <th>earthmars_km</th>\n",
       "      <th>sunmarsearthangle_deg</th>\n",
       "      <th>solarconstantmars</th>\n",
       "      <th>dist_shift</th>\n",
       "      <th>day</th>\n",
       "    </tr>\n",
       "  </thead>\n",
       "  <tbody>\n",
       "    <tr>\n",
       "      <td>0</td>\n",
       "      <td>1</td>\n",
       "      <td>952</td>\n",
       "      <td>952</td>\n",
       "      <td>952</td>\n",
       "      <td>952</td>\n",
       "      <td>952</td>\n",
       "      <td>952</td>\n",
       "      <td>952</td>\n",
       "      <td>952</td>\n",
       "    </tr>\n",
       "    <tr>\n",
       "      <td>1</td>\n",
       "      <td>2</td>\n",
       "      <td>1161</td>\n",
       "      <td>1161</td>\n",
       "      <td>1161</td>\n",
       "      <td>1161</td>\n",
       "      <td>1161</td>\n",
       "      <td>1161</td>\n",
       "      <td>1161</td>\n",
       "      <td>1161</td>\n",
       "    </tr>\n",
       "    <tr>\n",
       "      <td>2</td>\n",
       "      <td>3</td>\n",
       "      <td>1465</td>\n",
       "      <td>1465</td>\n",
       "      <td>1465</td>\n",
       "      <td>1465</td>\n",
       "      <td>1465</td>\n",
       "      <td>1465</td>\n",
       "      <td>1465</td>\n",
       "      <td>1465</td>\n",
       "    </tr>\n",
       "    <tr>\n",
       "      <td>3</td>\n",
       "      <td>4</td>\n",
       "      <td>1447</td>\n",
       "      <td>1447</td>\n",
       "      <td>1447</td>\n",
       "      <td>1447</td>\n",
       "      <td>1447</td>\n",
       "      <td>1447</td>\n",
       "      <td>1447</td>\n",
       "      <td>1447</td>\n",
       "    </tr>\n",
       "  </tbody>\n",
       "</table>\n",
       "</div>"
      ],
      "text/plain": [
       "   year  eclipse_day  duration  sunmars_km  earthmars_km  \\\n",
       "0     1          952       952         952           952   \n",
       "1     2         1161      1161        1161          1161   \n",
       "2     3         1465      1465        1465          1465   \n",
       "3     4         1447      1447        1447          1447   \n",
       "\n",
       "   sunmarsearthangle_deg  solarconstantmars  dist_shift   day  \n",
       "0                    952                952         952   952  \n",
       "1                   1161               1161        1161  1161  \n",
       "2                   1465               1465        1465  1465  \n",
       "3                   1447               1447        1447  1447  "
      ]
     },
     "execution_count": 70,
     "metadata": {},
     "output_type": "execute_result"
    }
   ],
   "source": [
    "df3=final_df.groupby(['year']).count()\n",
    "df4=df3.reset_index()\n",
    "df4"
   ]
  },
  {
   "cell_type": "code",
   "execution_count": 71,
   "metadata": {},
   "outputs": [
    {
     "data": {
      "image/png": "[encoded data removed]",
      "text/plain": [
       "<Figure size 432x288 with 1 Axes>"
      ]
     },
     "metadata": {
      "needs_background": "light"
     },
     "output_type": "display_data"
    }
   ],
   "source": [
    "x = []\n",
    "y = []\n",
    "\n",
    "for i in range(len(df4)):\n",
    "    x.append(df4['year'][i])\n",
    "    \n",
    "z = []    \n",
    "for i in x:\n",
    "    i =( \"year\"+ str(i))\n",
    "    z.append(i)\n",
    "    \n",
    "\n",
    "    \n",
    "for i in range(len(df4)):\n",
    "    y.append(df4['duration'][i])\n",
    "    \n",
    "y_pos = np.arange(len(x))\n",
    "bar_list = plt.bar(y_pos, y, align='center', alpha=0.5)\n",
    "plt.xticks(y_pos, z)\n",
    "plt.ylabel('number of eclipse observations')\n",
    "\n",
    "plt.title('eclipse observation')\n",
    "bar_list[0].set_color('blue')\n",
    "bar_list[1].set_color('orange')\n",
    "bar_list[2].set_color('green')\n",
    "bar_list[3].set_color('red')\n",
    "\n",
    "\n",
    "plt.savefig('../mars_data_raw/eclipse observation for years.png')"
   ]
  },
  {
   "cell_type": "code",
   "execution_count": 72,
   "metadata": {},
   "outputs": [],
   "source": [
    "#data_full_df"
   ]
  },
  {
   "cell_type": "code",
   "execution_count": 73,
   "metadata": {},
   "outputs": [],
   "source": [
    "# Total number of events"
   ]
  },
  {
   "cell_type": "code",
   "execution_count": 74,
   "metadata": {},
   "outputs": [],
   "source": [
    "unique_events = event_full_df.description.unique()\n",
    "#unique_events"
   ]
  },
  {
   "cell_type": "code",
   "execution_count": 75,
   "metadata": {},
   "outputs": [
    {
     "data": {
      "text/plain": [
       "113477"
      ]
     },
     "execution_count": 75,
     "metadata": {},
     "output_type": "execute_result"
    }
   ],
   "source": [
    "num_unique_events = len(unique_events)\n",
    "num_unique_events"
   ]
  },
  {
   "cell_type": "code",
   "execution_count": 76,
   "metadata": {},
   "outputs": [],
   "source": [
    "# Q1: how many times the eclipses happened per year?"
   ]
  },
  {
   "cell_type": "code",
   "execution_count": 77,
   "metadata": {},
   "outputs": [],
   "source": [
    "# group the event_full and count the times of eclipses : count the Mar_penumbra_start"
   ]
  },
  {
   "cell_type": "code",
   "execution_count": 78,
   "metadata": {},
   "outputs": [
    {
     "data": {
      "text/html": [
       "<div>\n",
       "<style scoped>\n",
       "    .dataframe tbody tr th:only-of-type {\n",
       "        vertical-align: middle;\n",
       "    }\n",
       "\n",
       "    .dataframe tbody tr th {\n",
       "        vertical-align: top;\n",
       "    }\n",
       "\n",
       "    .dataframe thead th {\n",
       "        text-align: right;\n",
       "    }\n",
       "</style>\n",
       "<table border=\"1\" class=\"dataframe\">\n",
       "  <thead>\n",
       "    <tr style=\"text-align: right;\">\n",
       "      <th></th>\n",
       "      <th>day</th>\n",
       "      <th>eclipse_day</th>\n",
       "    </tr>\n",
       "    <tr>\n",
       "      <th>year</th>\n",
       "      <th></th>\n",
       "      <th></th>\n",
       "    </tr>\n",
       "  </thead>\n",
       "  <tbody>\n",
       "    <tr>\n",
       "      <td>1</td>\n",
       "      <td>952</td>\n",
       "      <td>952</td>\n",
       "    </tr>\n",
       "    <tr>\n",
       "      <td>2</td>\n",
       "      <td>1161</td>\n",
       "      <td>1161</td>\n",
       "    </tr>\n",
       "    <tr>\n",
       "      <td>3</td>\n",
       "      <td>1465</td>\n",
       "      <td>1465</td>\n",
       "    </tr>\n",
       "    <tr>\n",
       "      <td>4</td>\n",
       "      <td>1447</td>\n",
       "      <td>1447</td>\n",
       "    </tr>\n",
       "  </tbody>\n",
       "</table>\n",
       "</div>"
      ],
      "text/plain": [
       "       day  eclipse_day\n",
       "year                   \n",
       "1      952          952\n",
       "2     1161         1161\n",
       "3     1465         1465\n",
       "4     1447         1447"
      ]
     },
     "execution_count": 78,
     "metadata": {},
     "output_type": "execute_result"
    }
   ],
   "source": [
    "year_df.groupby([\"year\"]).count()"
   ]
  },
  {
   "cell_type": "code",
   "execution_count": 79,
   "metadata": {},
   "outputs": [],
   "source": [
    "# Q2: the average number of eclipses happened in 4 year?"
   ]
  },
  {
   "cell_type": "code",
   "execution_count": 80,
   "metadata": {},
   "outputs": [],
   "source": [
    "# groupby and find the mean()"
   ]
  },
  {
   "cell_type": "code",
   "execution_count": 81,
   "metadata": {},
   "outputs": [
    {
     "data": {
      "text/html": [
       "<div>\n",
       "<style scoped>\n",
       "    .dataframe tbody tr th:only-of-type {\n",
       "        vertical-align: middle;\n",
       "    }\n",
       "\n",
       "    .dataframe tbody tr th {\n",
       "        vertical-align: top;\n",
       "    }\n",
       "\n",
       "    .dataframe thead th {\n",
       "        text-align: right;\n",
       "    }\n",
       "</style>\n",
       "<table border=\"1\" class=\"dataframe\">\n",
       "  <thead>\n",
       "    <tr style=\"text-align: right;\">\n",
       "      <th></th>\n",
       "      <th>eclipse_day</th>\n",
       "    </tr>\n",
       "    <tr>\n",
       "      <th>year</th>\n",
       "      <th></th>\n",
       "    </tr>\n",
       "  </thead>\n",
       "  <tbody>\n",
       "    <tr>\n",
       "      <td>1</td>\n",
       "      <td>400.797269</td>\n",
       "    </tr>\n",
       "    <tr>\n",
       "      <td>2</td>\n",
       "      <td>1006.726960</td>\n",
       "    </tr>\n",
       "    <tr>\n",
       "      <td>3</td>\n",
       "      <td>1688.112628</td>\n",
       "    </tr>\n",
       "    <tr>\n",
       "      <td>4</td>\n",
       "      <td>2422.856945</td>\n",
       "    </tr>\n",
       "  </tbody>\n",
       "</table>\n",
       "</div>"
      ],
      "text/plain": [
       "      eclipse_day\n",
       "year             \n",
       "1      400.797269\n",
       "2     1006.726960\n",
       "3     1688.112628\n",
       "4     2422.856945"
      ]
     },
     "execution_count": 81,
     "metadata": {},
     "output_type": "execute_result"
    }
   ],
   "source": [
    "year_df.groupby([\"year\"]).mean()"
   ]
  },
  {
   "cell_type": "code",
   "execution_count": 104,
   "metadata": {},
   "outputs": [],
   "source": [
    "# Q3: is the duration related to the distances to sun?"
   ]
  },
  {
   "cell_type": "code",
   "execution_count": null,
   "metadata": {},
   "outputs": [],
   "source": [
    "Based on the patterns on for all years (Duration of the Eclipse Vs SunMars distance) , there is no specific pattern that\n",
    "says the duration is related SunMars distance"
   ]
  },
  {
   "cell_type": "code",
   "execution_count": null,
   "metadata": {},
   "outputs": [],
   "source": [
    "# get the duration of eclipses and add to the data_full"
   ]
  },
  {
   "cell_type": "code",
   "execution_count": null,
   "metadata": {},
   "outputs": [],
   "source": [
    "# split the data_full to few parts depends on the comparison of distance to sun (from away to closer)"
   ]
  }
 ],
 "metadata": {
  "kernelspec": {
   "display_name": "Python 3",
   "language": "python",
   "name": "python3"
  },
  "language_info": {
   "codemirror_mode": {
    "name": "ipython",
    "version": 3
   },
   "file_extension": ".py",
   "mimetype": "text/x-python",
   "name": "python",
   "nbconvert_exporter": "python",
   "pygments_lexer": "ipython3",
   "version": "3.7.3"
  }
 },
 "nbformat": 4,
 "nbformat_minor": 2
}
